{
 "cells": [
  {
   "cell_type": "markdown",
   "metadata": {
    "id": "wTB9Bulhxs4r"
   },
   "source": [
    "# Deep Learning - Next Value Prediction\n",
    "### **Task 1**\n",
    "\n",
    "| Componente | Matricola |\n",
    "| --- | --- |\n",
    "| Gianfranco Sapia | 223954 |\n",
    "| Andrea De Seta | 227755 |"
   ]
  },
  {
   "cell_type": "markdown",
   "metadata": {
    "id": "wWFaNvvBxs4u"
   },
   "source": [
    "## **Data Understanding**"
   ]
  },
  {
   "cell_type": "code",
   "execution_count": 53,
   "metadata": {
    "id": "JAdeNJjzkU0j"
   },
   "outputs": [],
   "source": [
    "import os\n",
    "import numpy as np"
   ]
  },
  {
   "cell_type": "markdown",
   "metadata": {
    "id": "U28ykf3Oxs4x"
   },
   "source": [
    "#### **Load dataset**"
   ]
  },
  {
   "cell_type": "code",
   "execution_count": 54,
   "metadata": {
    "colab": {
     "base_uri": "https://localhost:8080/"
    },
    "id": "XKUgZv03jkrl",
    "outputId": "7c6fe1d3-44a0-41f8-a401-7da5566eff5f"
   },
   "outputs": [
    {
     "name": "stdout",
     "output_type": "stream",
     "text": [
      "Drive already mounted at /content/drive; to attempt to forcibly remount, call drive.mount(\"/content/drive\", force_remount=True).\n"
     ]
    }
   ],
   "source": [
    "from google.colab import drive\n",
    "drive.mount('/content/drive')"
   ]
  },
  {
   "cell_type": "code",
   "execution_count": 55,
   "metadata": {
    "id": "eZr6--ltlQ-Q"
   },
   "outputs": [],
   "source": [
    "train_path = '/content/drive/MyDrive/Deep Learning Project/Task 1/train.csv' #valid for colab\n",
    "test_path = '/content/drive/MyDrive/Deep Learning Project/Task 1/test.csv' ##valid for colab\n",
    "\n",
    "#train_path = 'train.csv'\n",
    "#test_path = 'test.csv'"
   ]
  },
  {
   "cell_type": "code",
   "execution_count": 56,
   "metadata": {
    "colab": {
     "base_uri": "https://localhost:8080/",
     "height": 424
    },
    "id": "3bIrOUeZlvp7",
    "outputId": "4025a81f-ef5f-4ee6-99bd-8357ddd268f6"
   },
   "outputs": [
    {
     "data": {
      "text/html": [
       "\n",
       "  <div id=\"df-0382f3dc-5bb3-45a1-b879-ff9cc136b103\">\n",
       "    <div class=\"colab-df-container\">\n",
       "      <div>\n",
       "<style scoped>\n",
       "    .dataframe tbody tr th:only-of-type {\n",
       "        vertical-align: middle;\n",
       "    }\n",
       "\n",
       "    .dataframe tbody tr th {\n",
       "        vertical-align: top;\n",
       "    }\n",
       "\n",
       "    .dataframe thead th {\n",
       "        text-align: right;\n",
       "    }\n",
       "</style>\n",
       "<table border=\"1\" class=\"dataframe\">\n",
       "  <thead>\n",
       "    <tr style=\"text-align: right;\">\n",
       "      <th></th>\n",
       "      <th>x</th>\n",
       "      <th>y</th>\n",
       "      <th>z</th>\n",
       "    </tr>\n",
       "  </thead>\n",
       "  <tbody>\n",
       "    <tr>\n",
       "      <th>0</th>\n",
       "      <td>-24</td>\n",
       "      <td>749</td>\n",
       "      <td>-626</td>\n",
       "    </tr>\n",
       "    <tr>\n",
       "      <th>1</th>\n",
       "      <td>-206</td>\n",
       "      <td>930</td>\n",
       "      <td>-63</td>\n",
       "    </tr>\n",
       "    <tr>\n",
       "      <th>2</th>\n",
       "      <td>-139</td>\n",
       "      <td>763</td>\n",
       "      <td>-577</td>\n",
       "    </tr>\n",
       "    <tr>\n",
       "      <th>3</th>\n",
       "      <td>-503</td>\n",
       "      <td>441</td>\n",
       "      <td>-557</td>\n",
       "    </tr>\n",
       "    <tr>\n",
       "      <th>4</th>\n",
       "      <td>-278</td>\n",
       "      <td>705</td>\n",
       "      <td>-396</td>\n",
       "    </tr>\n",
       "    <tr>\n",
       "      <th>...</th>\n",
       "      <td>...</td>\n",
       "      <td>...</td>\n",
       "      <td>...</td>\n",
       "    </tr>\n",
       "    <tr>\n",
       "      <th>144906</th>\n",
       "      <td>559</td>\n",
       "      <td>-803</td>\n",
       "      <td>-294</td>\n",
       "    </tr>\n",
       "    <tr>\n",
       "      <th>144907</th>\n",
       "      <td>559</td>\n",
       "      <td>-803</td>\n",
       "      <td>-294</td>\n",
       "    </tr>\n",
       "    <tr>\n",
       "      <th>144908</th>\n",
       "      <td>559</td>\n",
       "      <td>-802</td>\n",
       "      <td>-295</td>\n",
       "    </tr>\n",
       "    <tr>\n",
       "      <th>144909</th>\n",
       "      <td>559</td>\n",
       "      <td>-803</td>\n",
       "      <td>-294</td>\n",
       "    </tr>\n",
       "    <tr>\n",
       "      <th>144910</th>\n",
       "      <td>559</td>\n",
       "      <td>-802</td>\n",
       "      <td>-294</td>\n",
       "    </tr>\n",
       "  </tbody>\n",
       "</table>\n",
       "<p>144911 rows × 3 columns</p>\n",
       "</div>\n",
       "      <button class=\"colab-df-convert\" onclick=\"convertToInteractive('df-0382f3dc-5bb3-45a1-b879-ff9cc136b103')\"\n",
       "              title=\"Convert this dataframe to an interactive table.\"\n",
       "              style=\"display:none;\">\n",
       "        \n",
       "  <svg xmlns=\"http://www.w3.org/2000/svg\" height=\"24px\"viewBox=\"0 0 24 24\"\n",
       "       width=\"24px\">\n",
       "    <path d=\"M0 0h24v24H0V0z\" fill=\"none\"/>\n",
       "    <path d=\"M18.56 5.44l.94 2.06.94-2.06 2.06-.94-2.06-.94-.94-2.06-.94 2.06-2.06.94zm-11 1L8.5 8.5l.94-2.06 2.06-.94-2.06-.94L8.5 2.5l-.94 2.06-2.06.94zm10 10l.94 2.06.94-2.06 2.06-.94-2.06-.94-.94-2.06-.94 2.06-2.06.94z\"/><path d=\"M17.41 7.96l-1.37-1.37c-.4-.4-.92-.59-1.43-.59-.52 0-1.04.2-1.43.59L10.3 9.45l-7.72 7.72c-.78.78-.78 2.05 0 2.83L4 21.41c.39.39.9.59 1.41.59.51 0 1.02-.2 1.41-.59l7.78-7.78 2.81-2.81c.8-.78.8-2.07 0-2.86zM5.41 20L4 18.59l7.72-7.72 1.47 1.35L5.41 20z\"/>\n",
       "  </svg>\n",
       "      </button>\n",
       "      \n",
       "  <style>\n",
       "    .colab-df-container {\n",
       "      display:flex;\n",
       "      flex-wrap:wrap;\n",
       "      gap: 12px;\n",
       "    }\n",
       "\n",
       "    .colab-df-convert {\n",
       "      background-color: #E8F0FE;\n",
       "      border: none;\n",
       "      border-radius: 50%;\n",
       "      cursor: pointer;\n",
       "      display: none;\n",
       "      fill: #1967D2;\n",
       "      height: 32px;\n",
       "      padding: 0 0 0 0;\n",
       "      width: 32px;\n",
       "    }\n",
       "\n",
       "    .colab-df-convert:hover {\n",
       "      background-color: #E2EBFA;\n",
       "      box-shadow: 0px 1px 2px rgba(60, 64, 67, 0.3), 0px 1px 3px 1px rgba(60, 64, 67, 0.15);\n",
       "      fill: #174EA6;\n",
       "    }\n",
       "\n",
       "    [theme=dark] .colab-df-convert {\n",
       "      background-color: #3B4455;\n",
       "      fill: #D2E3FC;\n",
       "    }\n",
       "\n",
       "    [theme=dark] .colab-df-convert:hover {\n",
       "      background-color: #434B5C;\n",
       "      box-shadow: 0px 1px 3px 1px rgba(0, 0, 0, 0.15);\n",
       "      filter: drop-shadow(0px 1px 2px rgba(0, 0, 0, 0.3));\n",
       "      fill: #FFFFFF;\n",
       "    }\n",
       "  </style>\n",
       "\n",
       "      <script>\n",
       "        const buttonEl =\n",
       "          document.querySelector('#df-0382f3dc-5bb3-45a1-b879-ff9cc136b103 button.colab-df-convert');\n",
       "        buttonEl.style.display =\n",
       "          google.colab.kernel.accessAllowed ? 'block' : 'none';\n",
       "\n",
       "        async function convertToInteractive(key) {\n",
       "          const element = document.querySelector('#df-0382f3dc-5bb3-45a1-b879-ff9cc136b103');\n",
       "          const dataTable =\n",
       "            await google.colab.kernel.invokeFunction('convertToInteractive',\n",
       "                                                     [key], {});\n",
       "          if (!dataTable) return;\n",
       "\n",
       "          const docLinkHtml = 'Like what you see? Visit the ' +\n",
       "            '<a target=\"_blank\" href=https://colab.research.google.com/notebooks/data_table.ipynb>data table notebook</a>'\n",
       "            + ' to learn more about interactive tables.';\n",
       "          element.innerHTML = '';\n",
       "          dataTable['output_type'] = 'display_data';\n",
       "          await google.colab.output.renderOutput(dataTable, element);\n",
       "          const docLink = document.createElement('div');\n",
       "          docLink.innerHTML = docLinkHtml;\n",
       "          element.appendChild(docLink);\n",
       "        }\n",
       "      </script>\n",
       "    </div>\n",
       "  </div>\n",
       "  "
      ],
      "text/plain": [
       "          x    y    z\n",
       "0       -24  749 -626\n",
       "1      -206  930  -63\n",
       "2      -139  763 -577\n",
       "3      -503  441 -557\n",
       "4      -278  705 -396\n",
       "...     ...  ...  ...\n",
       "144906  559 -803 -294\n",
       "144907  559 -803 -294\n",
       "144908  559 -802 -295\n",
       "144909  559 -803 -294\n",
       "144910  559 -802 -294\n",
       "\n",
       "[144911 rows x 3 columns]"
      ]
     },
     "execution_count": 56,
     "metadata": {},
     "output_type": "execute_result"
    }
   ],
   "source": [
    "import pandas as pd\n",
    "\n",
    "train_data_loaded = pd.read_csv(train_path)\n",
    "test_data = pd.read_csv(test_path)\n",
    "train_data_loaded"
   ]
  },
  {
   "cell_type": "markdown",
   "metadata": {
    "id": "BNrdt1Y5xs41"
   },
   "source": [
    "##### **Data dimension**"
   ]
  },
  {
   "cell_type": "code",
   "execution_count": 57,
   "metadata": {
    "colab": {
     "base_uri": "https://localhost:8080/"
    },
    "id": "x-jtKHITo2F5",
    "outputId": "349fb8de-532a-40e6-8808-d0914a104bc1"
   },
   "outputs": [
    {
     "data": {
      "text/plain": [
       "434733"
      ]
     },
     "execution_count": 57,
     "metadata": {},
     "output_type": "execute_result"
    }
   ],
   "source": [
    "train_data_loaded.size"
   ]
  },
  {
   "cell_type": "code",
   "execution_count": 58,
   "metadata": {
    "colab": {
     "base_uri": "https://localhost:8080/"
    },
    "id": "e1ehJ4Qcmir9",
    "outputId": "76f29b76-7754-4f4d-97fe-176170de093f"
   },
   "outputs": [
    {
     "data": {
      "text/plain": [
       "(144911, 3)"
      ]
     },
     "execution_count": 58,
     "metadata": {},
     "output_type": "execute_result"
    }
   ],
   "source": [
    "train_data_loaded.shape"
   ]
  },
  {
   "cell_type": "markdown",
   "metadata": {
    "id": "RK9GD56txs45"
   },
   "source": [
    "##### **Get attribute type and general statistics**"
   ]
  },
  {
   "cell_type": "code",
   "execution_count": 59,
   "metadata": {
    "colab": {
     "base_uri": "https://localhost:8080/"
    },
    "id": "3qMT1MuMnHGn",
    "outputId": "8ab13a05-dcef-4fca-aa42-11cb24ab0af7"
   },
   "outputs": [
    {
     "name": "stdout",
     "output_type": "stream",
     "text": [
      "<class 'pandas.core.frame.DataFrame'>\n",
      "RangeIndex: 144911 entries, 0 to 144910\n",
      "Data columns (total 3 columns):\n",
      " #   Column  Non-Null Count   Dtype\n",
      "---  ------  --------------   -----\n",
      " 0   x       144911 non-null  int64\n",
      " 1   y       144911 non-null  int64\n",
      " 2   z       144911 non-null  int64\n",
      "dtypes: int64(3)\n",
      "memory usage: 3.3 MB\n"
     ]
    }
   ],
   "source": [
    "train_data_loaded.info()"
   ]
  },
  {
   "cell_type": "code",
   "execution_count": 60,
   "metadata": {
    "colab": {
     "base_uri": "https://localhost:8080/",
     "height": 300
    },
    "id": "W5mPRwj0pD5G",
    "outputId": "18dcbe68-9a0d-49cd-adcb-fea652205ea8"
   },
   "outputs": [
    {
     "data": {
      "text/html": [
       "\n",
       "  <div id=\"df-b7c85b00-4cb4-4ead-bb7d-7dee6d4f1a56\">\n",
       "    <div class=\"colab-df-container\">\n",
       "      <div>\n",
       "<style scoped>\n",
       "    .dataframe tbody tr th:only-of-type {\n",
       "        vertical-align: middle;\n",
       "    }\n",
       "\n",
       "    .dataframe tbody tr th {\n",
       "        vertical-align: top;\n",
       "    }\n",
       "\n",
       "    .dataframe thead th {\n",
       "        text-align: right;\n",
       "    }\n",
       "</style>\n",
       "<table border=\"1\" class=\"dataframe\">\n",
       "  <thead>\n",
       "    <tr style=\"text-align: right;\">\n",
       "      <th></th>\n",
       "      <th>x</th>\n",
       "      <th>y</th>\n",
       "      <th>z</th>\n",
       "    </tr>\n",
       "  </thead>\n",
       "  <tbody>\n",
       "    <tr>\n",
       "      <th>count</th>\n",
       "      <td>144911.000000</td>\n",
       "      <td>144911.000000</td>\n",
       "      <td>144911.000000</td>\n",
       "    </tr>\n",
       "    <tr>\n",
       "      <th>mean</th>\n",
       "      <td>132.732967</td>\n",
       "      <td>-34.800146</td>\n",
       "      <td>-307.588768</td>\n",
       "    </tr>\n",
       "    <tr>\n",
       "      <th>std</th>\n",
       "      <td>491.697810</td>\n",
       "      <td>594.977813</td>\n",
       "      <td>538.335654</td>\n",
       "    </tr>\n",
       "    <tr>\n",
       "      <th>min</th>\n",
       "      <td>-1239.000000</td>\n",
       "      <td>-1019.000000</td>\n",
       "      <td>-1001.000000</td>\n",
       "    </tr>\n",
       "    <tr>\n",
       "      <th>25%</th>\n",
       "      <td>-291.000000</td>\n",
       "      <td>-646.000000</td>\n",
       "      <td>-794.000000</td>\n",
       "    </tr>\n",
       "    <tr>\n",
       "      <th>50%</th>\n",
       "      <td>214.000000</td>\n",
       "      <td>-14.000000</td>\n",
       "      <td>-416.000000</td>\n",
       "    </tr>\n",
       "    <tr>\n",
       "      <th>75%</th>\n",
       "      <td>539.000000</td>\n",
       "      <td>466.000000</td>\n",
       "      <td>83.000000</td>\n",
       "    </tr>\n",
       "    <tr>\n",
       "      <th>max</th>\n",
       "      <td>1039.000000</td>\n",
       "      <td>1078.000000</td>\n",
       "      <td>1032.000000</td>\n",
       "    </tr>\n",
       "  </tbody>\n",
       "</table>\n",
       "</div>\n",
       "      <button class=\"colab-df-convert\" onclick=\"convertToInteractive('df-b7c85b00-4cb4-4ead-bb7d-7dee6d4f1a56')\"\n",
       "              title=\"Convert this dataframe to an interactive table.\"\n",
       "              style=\"display:none;\">\n",
       "        \n",
       "  <svg xmlns=\"http://www.w3.org/2000/svg\" height=\"24px\"viewBox=\"0 0 24 24\"\n",
       "       width=\"24px\">\n",
       "    <path d=\"M0 0h24v24H0V0z\" fill=\"none\"/>\n",
       "    <path d=\"M18.56 5.44l.94 2.06.94-2.06 2.06-.94-2.06-.94-.94-2.06-.94 2.06-2.06.94zm-11 1L8.5 8.5l.94-2.06 2.06-.94-2.06-.94L8.5 2.5l-.94 2.06-2.06.94zm10 10l.94 2.06.94-2.06 2.06-.94-2.06-.94-.94-2.06-.94 2.06-2.06.94z\"/><path d=\"M17.41 7.96l-1.37-1.37c-.4-.4-.92-.59-1.43-.59-.52 0-1.04.2-1.43.59L10.3 9.45l-7.72 7.72c-.78.78-.78 2.05 0 2.83L4 21.41c.39.39.9.59 1.41.59.51 0 1.02-.2 1.41-.59l7.78-7.78 2.81-2.81c.8-.78.8-2.07 0-2.86zM5.41 20L4 18.59l7.72-7.72 1.47 1.35L5.41 20z\"/>\n",
       "  </svg>\n",
       "      </button>\n",
       "      \n",
       "  <style>\n",
       "    .colab-df-container {\n",
       "      display:flex;\n",
       "      flex-wrap:wrap;\n",
       "      gap: 12px;\n",
       "    }\n",
       "\n",
       "    .colab-df-convert {\n",
       "      background-color: #E8F0FE;\n",
       "      border: none;\n",
       "      border-radius: 50%;\n",
       "      cursor: pointer;\n",
       "      display: none;\n",
       "      fill: #1967D2;\n",
       "      height: 32px;\n",
       "      padding: 0 0 0 0;\n",
       "      width: 32px;\n",
       "    }\n",
       "\n",
       "    .colab-df-convert:hover {\n",
       "      background-color: #E2EBFA;\n",
       "      box-shadow: 0px 1px 2px rgba(60, 64, 67, 0.3), 0px 1px 3px 1px rgba(60, 64, 67, 0.15);\n",
       "      fill: #174EA6;\n",
       "    }\n",
       "\n",
       "    [theme=dark] .colab-df-convert {\n",
       "      background-color: #3B4455;\n",
       "      fill: #D2E3FC;\n",
       "    }\n",
       "\n",
       "    [theme=dark] .colab-df-convert:hover {\n",
       "      background-color: #434B5C;\n",
       "      box-shadow: 0px 1px 3px 1px rgba(0, 0, 0, 0.15);\n",
       "      filter: drop-shadow(0px 1px 2px rgba(0, 0, 0, 0.3));\n",
       "      fill: #FFFFFF;\n",
       "    }\n",
       "  </style>\n",
       "\n",
       "      <script>\n",
       "        const buttonEl =\n",
       "          document.querySelector('#df-b7c85b00-4cb4-4ead-bb7d-7dee6d4f1a56 button.colab-df-convert');\n",
       "        buttonEl.style.display =\n",
       "          google.colab.kernel.accessAllowed ? 'block' : 'none';\n",
       "\n",
       "        async function convertToInteractive(key) {\n",
       "          const element = document.querySelector('#df-b7c85b00-4cb4-4ead-bb7d-7dee6d4f1a56');\n",
       "          const dataTable =\n",
       "            await google.colab.kernel.invokeFunction('convertToInteractive',\n",
       "                                                     [key], {});\n",
       "          if (!dataTable) return;\n",
       "\n",
       "          const docLinkHtml = 'Like what you see? Visit the ' +\n",
       "            '<a target=\"_blank\" href=https://colab.research.google.com/notebooks/data_table.ipynb>data table notebook</a>'\n",
       "            + ' to learn more about interactive tables.';\n",
       "          element.innerHTML = '';\n",
       "          dataTable['output_type'] = 'display_data';\n",
       "          await google.colab.output.renderOutput(dataTable, element);\n",
       "          const docLink = document.createElement('div');\n",
       "          docLink.innerHTML = docLinkHtml;\n",
       "          element.appendChild(docLink);\n",
       "        }\n",
       "      </script>\n",
       "    </div>\n",
       "  </div>\n",
       "  "
      ],
      "text/plain": [
       "                   x              y              z\n",
       "count  144911.000000  144911.000000  144911.000000\n",
       "mean      132.732967     -34.800146    -307.588768\n",
       "std       491.697810     594.977813     538.335654\n",
       "min     -1239.000000   -1019.000000   -1001.000000\n",
       "25%      -291.000000    -646.000000    -794.000000\n",
       "50%       214.000000     -14.000000    -416.000000\n",
       "75%       539.000000     466.000000      83.000000\n",
       "max      1039.000000    1078.000000    1032.000000"
      ]
     },
     "execution_count": 60,
     "metadata": {},
     "output_type": "execute_result"
    }
   ],
   "source": [
    "train_data_loaded.describe()"
   ]
  },
  {
   "cell_type": "code",
   "execution_count": 61,
   "metadata": {
    "colab": {
     "base_uri": "https://localhost:8080/"
    },
    "id": "zTJdlGVJpTLy",
    "outputId": "e63d684d-6ca9-46fe-a810-802a468488da"
   },
   "outputs": [
    {
     "name": "stdout",
     "output_type": "stream",
     "text": [
      "<class 'pandas.core.frame.DataFrame'>\n",
      "RangeIndex: 144911 entries, 0 to 144910\n",
      "Data columns (total 3 columns):\n",
      " #   Column  Non-Null Count   Dtype  \n",
      "---  ------  --------------   -----  \n",
      " 0   x       144911 non-null  float64\n",
      " 1   y       144911 non-null  float64\n",
      " 2   z       144911 non-null  float64\n",
      "dtypes: float64(3)\n",
      "memory usage: 3.3 MB\n"
     ]
    }
   ],
   "source": [
    "train_data_loaded = train_data_loaded.astype('float64')\n",
    "train_data_loaded.info()"
   ]
  },
  {
   "cell_type": "markdown",
   "metadata": {
    "id": "QkOnXe16xs49"
   },
   "source": [
    "##### **Data visualization**"
   ]
  },
  {
   "cell_type": "code",
   "execution_count": 62,
   "metadata": {
    "colab": {
     "base_uri": "https://localhost:8080/",
     "height": 1000
    },
    "id": "bklEc38ypanS",
    "outputId": "0d5ba06e-2f01-4e11-ceba-777213b4805f"
   },
   "outputs": [
    {
     "data": {
      "text/plain": [
       "[<matplotlib.lines.Line2D at 0x7efeeb3ee110>]"
      ]
     },
     "execution_count": 62,
     "metadata": {},
     "output_type": "execute_result"
    },
    {
     "data": {
      "image/png": "[encoded data removed]",
      "text/plain": [
       "<Figure size 1440x576 with 1 Axes>"
      ]
     },
     "metadata": {
      "needs_background": "light"
     },
     "output_type": "display_data"
    },
    {
     "data": {
      "image/png": "[encoded data removed]",
      "text/plain": [
       "<Figure size 1440x576 with 1 Axes>"
      ]
     },
     "metadata": {
      "needs_background": "light"
     },
     "output_type": "display_data"
    },
    {
     "data": {
      "image/png": "[encoded data removed]",
      "text/plain": [
       "<Figure size 1440x576 with 1 Axes>"
      ]
     },
     "metadata": {
      "needs_background": "light"
     },
     "output_type": "display_data"
    }
   ],
   "source": [
    "import matplotlib.pyplot as plt\n",
    "\n",
    "x_column = train_data_loaded['x'] # x\n",
    "fig = plt.figure(figsize=(20, 8))\n",
    "plt.plot(x_column)\n",
    "\n",
    "y_column = train_data_loaded['y'] # y\n",
    "fig = plt.figure(figsize=(20, 8))\n",
    "plt.plot(y_column)\n",
    "\n",
    "z_column = train_data_loaded['z'] # z\n",
    "fig = plt.figure(figsize=(20, 8))\n",
    "plt.plot(z_column)"
   ]
  },
  {
   "cell_type": "markdown",
   "metadata": {
    "id": "iwxOO_1-xs4_"
   },
   "source": [
    "## **Data Preparation**\n",
    "##### **Trainset normalization**"
   ]
  },
  {
   "cell_type": "code",
   "execution_count": 63,
   "metadata": {
    "colab": {
     "base_uri": "https://localhost:8080/",
     "height": 424
    },
    "id": "vWf43q9nqP5Z",
    "outputId": "36bfe05f-9e5e-45b3-92ae-fd9d0f58849d"
   },
   "outputs": [
    {
     "data": {
      "text/html": [
       "\n",
       "  <div id=\"df-16e5d0b9-515d-4f80-9e05-79830e9bc33d\">\n",
       "    <div class=\"colab-df-container\">\n",
       "      <div>\n",
       "<style scoped>\n",
       "    .dataframe tbody tr th:only-of-type {\n",
       "        vertical-align: middle;\n",
       "    }\n",
       "\n",
       "    .dataframe tbody tr th {\n",
       "        vertical-align: top;\n",
       "    }\n",
       "\n",
       "    .dataframe thead th {\n",
       "        text-align: right;\n",
       "    }\n",
       "</style>\n",
       "<table border=\"1\" class=\"dataframe\">\n",
       "  <thead>\n",
       "    <tr style=\"text-align: right;\">\n",
       "      <th></th>\n",
       "      <th>x</th>\n",
       "      <th>y</th>\n",
       "      <th>z</th>\n",
       "    </tr>\n",
       "  </thead>\n",
       "  <tbody>\n",
       "    <tr>\n",
       "      <th>0</th>\n",
       "      <td>-0.318759</td>\n",
       "      <td>1.317360</td>\n",
       "      <td>-0.591473</td>\n",
       "    </tr>\n",
       "    <tr>\n",
       "      <th>1</th>\n",
       "      <td>-0.688905</td>\n",
       "      <td>1.621573</td>\n",
       "      <td>0.454343</td>\n",
       "    </tr>\n",
       "    <tr>\n",
       "      <th>2</th>\n",
       "      <td>-0.552642</td>\n",
       "      <td>1.340891</td>\n",
       "      <td>-0.500452</td>\n",
       "    </tr>\n",
       "    <tr>\n",
       "      <th>3</th>\n",
       "      <td>-1.292934</td>\n",
       "      <td>0.799694</td>\n",
       "      <td>-0.463301</td>\n",
       "    </tr>\n",
       "    <tr>\n",
       "      <th>4</th>\n",
       "      <td>-0.835336</td>\n",
       "      <td>1.243408</td>\n",
       "      <td>-0.164231</td>\n",
       "    </tr>\n",
       "    <tr>\n",
       "      <th>...</th>\n",
       "      <td>...</td>\n",
       "      <td>...</td>\n",
       "      <td>...</td>\n",
       "    </tr>\n",
       "    <tr>\n",
       "      <th>144906</th>\n",
       "      <td>0.866929</td>\n",
       "      <td>-1.291140</td>\n",
       "      <td>0.025242</td>\n",
       "    </tr>\n",
       "    <tr>\n",
       "      <th>144907</th>\n",
       "      <td>0.866929</td>\n",
       "      <td>-1.291140</td>\n",
       "      <td>0.025242</td>\n",
       "    </tr>\n",
       "    <tr>\n",
       "      <th>144908</th>\n",
       "      <td>0.866929</td>\n",
       "      <td>-1.289460</td>\n",
       "      <td>0.023385</td>\n",
       "    </tr>\n",
       "    <tr>\n",
       "      <th>144909</th>\n",
       "      <td>0.866929</td>\n",
       "      <td>-1.291140</td>\n",
       "      <td>0.025242</td>\n",
       "    </tr>\n",
       "    <tr>\n",
       "      <th>144910</th>\n",
       "      <td>0.866929</td>\n",
       "      <td>-1.289460</td>\n",
       "      <td>0.025242</td>\n",
       "    </tr>\n",
       "  </tbody>\n",
       "</table>\n",
       "<p>144911 rows × 3 columns</p>\n",
       "</div>\n",
       "      <button class=\"colab-df-convert\" onclick=\"convertToInteractive('df-16e5d0b9-515d-4f80-9e05-79830e9bc33d')\"\n",
       "              title=\"Convert this dataframe to an interactive table.\"\n",
       "              style=\"display:none;\">\n",
       "        \n",
       "  <svg xmlns=\"http://www.w3.org/2000/svg\" height=\"24px\"viewBox=\"0 0 24 24\"\n",
       "       width=\"24px\">\n",
       "    <path d=\"M0 0h24v24H0V0z\" fill=\"none\"/>\n",
       "    <path d=\"M18.56 5.44l.94 2.06.94-2.06 2.06-.94-2.06-.94-.94-2.06-.94 2.06-2.06.94zm-11 1L8.5 8.5l.94-2.06 2.06-.94-2.06-.94L8.5 2.5l-.94 2.06-2.06.94zm10 10l.94 2.06.94-2.06 2.06-.94-2.06-.94-.94-2.06-.94 2.06-2.06.94z\"/><path d=\"M17.41 7.96l-1.37-1.37c-.4-.4-.92-.59-1.43-.59-.52 0-1.04.2-1.43.59L10.3 9.45l-7.72 7.72c-.78.78-.78 2.05 0 2.83L4 21.41c.39.39.9.59 1.41.59.51 0 1.02-.2 1.41-.59l7.78-7.78 2.81-2.81c.8-.78.8-2.07 0-2.86zM5.41 20L4 18.59l7.72-7.72 1.47 1.35L5.41 20z\"/>\n",
       "  </svg>\n",
       "      </button>\n",
       "      \n",
       "  <style>\n",
       "    .colab-df-container {\n",
       "      display:flex;\n",
       "      flex-wrap:wrap;\n",
       "      gap: 12px;\n",
       "    }\n",
       "\n",
       "    .colab-df-convert {\n",
       "      background-color: #E8F0FE;\n",
       "      border: none;\n",
       "      border-radius: 50%;\n",
       "      cursor: pointer;\n",
       "      display: none;\n",
       "      fill: #1967D2;\n",
       "      height: 32px;\n",
       "      padding: 0 0 0 0;\n",
       "      width: 32px;\n",
       "    }\n",
       "\n",
       "    .colab-df-convert:hover {\n",
       "      background-color: #E2EBFA;\n",
       "      box-shadow: 0px 1px 2px rgba(60, 64, 67, 0.3), 0px 1px 3px 1px rgba(60, 64, 67, 0.15);\n",
       "      fill: #174EA6;\n",
       "    }\n",
       "\n",
       "    [theme=dark] .colab-df-convert {\n",
       "      background-color: #3B4455;\n",
       "      fill: #D2E3FC;\n",
       "    }\n",
       "\n",
       "    [theme=dark] .colab-df-convert:hover {\n",
       "      background-color: #434B5C;\n",
       "      box-shadow: 0px 1px 3px 1px rgba(0, 0, 0, 0.15);\n",
       "      filter: drop-shadow(0px 1px 2px rgba(0, 0, 0, 0.3));\n",
       "      fill: #FFFFFF;\n",
       "    }\n",
       "  </style>\n",
       "\n",
       "      <script>\n",
       "        const buttonEl =\n",
       "          document.querySelector('#df-16e5d0b9-515d-4f80-9e05-79830e9bc33d button.colab-df-convert');\n",
       "        buttonEl.style.display =\n",
       "          google.colab.kernel.accessAllowed ? 'block' : 'none';\n",
       "\n",
       "        async function convertToInteractive(key) {\n",
       "          const element = document.querySelector('#df-16e5d0b9-515d-4f80-9e05-79830e9bc33d');\n",
       "          const dataTable =\n",
       "            await google.colab.kernel.invokeFunction('convertToInteractive',\n",
       "                                                     [key], {});\n",
       "          if (!dataTable) return;\n",
       "\n",
       "          const docLinkHtml = 'Like what you see? Visit the ' +\n",
       "            '<a target=\"_blank\" href=https://colab.research.google.com/notebooks/data_table.ipynb>data table notebook</a>'\n",
       "            + ' to learn more about interactive tables.';\n",
       "          element.innerHTML = '';\n",
       "          dataTable['output_type'] = 'display_data';\n",
       "          await google.colab.output.renderOutput(dataTable, element);\n",
       "          const docLink = document.createElement('div');\n",
       "          docLink.innerHTML = docLinkHtml;\n",
       "          element.appendChild(docLink);\n",
       "        }\n",
       "      </script>\n",
       "    </div>\n",
       "  </div>\n",
       "  "
      ],
      "text/plain": [
       "               x         y         z\n",
       "0      -0.318759  1.317360 -0.591473\n",
       "1      -0.688905  1.621573  0.454343\n",
       "2      -0.552642  1.340891 -0.500452\n",
       "3      -1.292934  0.799694 -0.463301\n",
       "4      -0.835336  1.243408 -0.164231\n",
       "...          ...       ...       ...\n",
       "144906  0.866929 -1.291140  0.025242\n",
       "144907  0.866929 -1.291140  0.025242\n",
       "144908  0.866929 -1.289460  0.023385\n",
       "144909  0.866929 -1.291140  0.025242\n",
       "144910  0.866929 -1.289460  0.025242\n",
       "\n",
       "[144911 rows x 3 columns]"
      ]
     },
     "execution_count": 63,
     "metadata": {},
     "output_type": "execute_result"
    }
   ],
   "source": [
    "# normalize the dataset\n",
    "mean = train_data_loaded.mean()\n",
    "std = train_data_loaded.std()\n",
    "\n",
    "train_data_loaded = (train_data_loaded - mean) / std\n",
    "train_data_loaded"
   ]
  },
  {
   "cell_type": "markdown",
   "metadata": {
    "id": "HQ7krllLxs5B"
   },
   "source": [
    "##### **Validation data split**"
   ]
  },
  {
   "cell_type": "code",
   "execution_count": 64,
   "metadata": {
    "colab": {
     "base_uri": "https://localhost:8080/"
    },
    "id": "6_ukPKW4GhZE",
    "outputId": "e5b28d08-581e-43c8-d621-0bd64fef35dc"
   },
   "outputs": [
    {
     "name": "stdout",
     "output_type": "stream",
     "text": [
      "len_split : 101438\n"
     ]
    }
   ],
   "source": [
    "len_split = round(len(train_data_loaded)*0.7)\n",
    "len_split\n",
    "print(\"len_split : \" + str(len_split))\n",
    "train_data = train_data_loaded[:len_split]\n",
    "val_data = train_data_loaded[len_split:]"
   ]
  },
  {
   "cell_type": "code",
   "execution_count": 65,
   "metadata": {
    "colab": {
     "base_uri": "https://localhost:8080/",
     "height": 424
    },
    "id": "t-yp34qEGsh1",
    "outputId": "f62e0848-66af-405e-c3d1-96e29230664a"
   },
   "outputs": [
    {
     "data": {
      "text/html": [
       "\n",
       "  <div id=\"df-afc29fea-1e31-49bb-bc91-bf56e10e0f48\">\n",
       "    <div class=\"colab-df-container\">\n",
       "      <div>\n",
       "<style scoped>\n",
       "    .dataframe tbody tr th:only-of-type {\n",
       "        vertical-align: middle;\n",
       "    }\n",
       "\n",
       "    .dataframe tbody tr th {\n",
       "        vertical-align: top;\n",
       "    }\n",
       "\n",
       "    .dataframe thead th {\n",
       "        text-align: right;\n",
       "    }\n",
       "</style>\n",
       "<table border=\"1\" class=\"dataframe\">\n",
       "  <thead>\n",
       "    <tr style=\"text-align: right;\">\n",
       "      <th></th>\n",
       "      <th>x</th>\n",
       "      <th>y</th>\n",
       "      <th>z</th>\n",
       "    </tr>\n",
       "  </thead>\n",
       "  <tbody>\n",
       "    <tr>\n",
       "      <th>0</th>\n",
       "      <td>0.332048</td>\n",
       "      <td>-1.573504</td>\n",
       "      <td>0.305736</td>\n",
       "    </tr>\n",
       "    <tr>\n",
       "      <th>1</th>\n",
       "      <td>0.315777</td>\n",
       "      <td>-1.570142</td>\n",
       "      <td>0.287161</td>\n",
       "    </tr>\n",
       "    <tr>\n",
       "      <th>2</th>\n",
       "      <td>0.429668</td>\n",
       "      <td>-1.563419</td>\n",
       "      <td>0.424621</td>\n",
       "    </tr>\n",
       "    <tr>\n",
       "      <th>3</th>\n",
       "      <td>0.612708</td>\n",
       "      <td>-1.430641</td>\n",
       "      <td>1.000470</td>\n",
       "    </tr>\n",
       "    <tr>\n",
       "      <th>4</th>\n",
       "      <td>0.431702</td>\n",
       "      <td>-1.575185</td>\n",
       "      <td>0.688397</td>\n",
       "    </tr>\n",
       "    <tr>\n",
       "      <th>...</th>\n",
       "      <td>...</td>\n",
       "      <td>...</td>\n",
       "      <td>...</td>\n",
       "    </tr>\n",
       "    <tr>\n",
       "      <th>43468</th>\n",
       "      <td>0.866929</td>\n",
       "      <td>-1.291140</td>\n",
       "      <td>0.025242</td>\n",
       "    </tr>\n",
       "    <tr>\n",
       "      <th>43469</th>\n",
       "      <td>0.866929</td>\n",
       "      <td>-1.291140</td>\n",
       "      <td>0.025242</td>\n",
       "    </tr>\n",
       "    <tr>\n",
       "      <th>43470</th>\n",
       "      <td>0.866929</td>\n",
       "      <td>-1.289460</td>\n",
       "      <td>0.023385</td>\n",
       "    </tr>\n",
       "    <tr>\n",
       "      <th>43471</th>\n",
       "      <td>0.866929</td>\n",
       "      <td>-1.291140</td>\n",
       "      <td>0.025242</td>\n",
       "    </tr>\n",
       "    <tr>\n",
       "      <th>43472</th>\n",
       "      <td>0.866929</td>\n",
       "      <td>-1.289460</td>\n",
       "      <td>0.025242</td>\n",
       "    </tr>\n",
       "  </tbody>\n",
       "</table>\n",
       "<p>43473 rows × 3 columns</p>\n",
       "</div>\n",
       "      <button class=\"colab-df-convert\" onclick=\"convertToInteractive('df-afc29fea-1e31-49bb-bc91-bf56e10e0f48')\"\n",
       "              title=\"Convert this dataframe to an interactive table.\"\n",
       "              style=\"display:none;\">\n",
       "        \n",
       "  <svg xmlns=\"http://www.w3.org/2000/svg\" height=\"24px\"viewBox=\"0 0 24 24\"\n",
       "       width=\"24px\">\n",
       "    <path d=\"M0 0h24v24H0V0z\" fill=\"none\"/>\n",
       "    <path d=\"M18.56 5.44l.94 2.06.94-2.06 2.06-.94-2.06-.94-.94-2.06-.94 2.06-2.06.94zm-11 1L8.5 8.5l.94-2.06 2.06-.94-2.06-.94L8.5 2.5l-.94 2.06-2.06.94zm10 10l.94 2.06.94-2.06 2.06-.94-2.06-.94-.94-2.06-.94 2.06-2.06.94z\"/><path d=\"M17.41 7.96l-1.37-1.37c-.4-.4-.92-.59-1.43-.59-.52 0-1.04.2-1.43.59L10.3 9.45l-7.72 7.72c-.78.78-.78 2.05 0 2.83L4 21.41c.39.39.9.59 1.41.59.51 0 1.02-.2 1.41-.59l7.78-7.78 2.81-2.81c.8-.78.8-2.07 0-2.86zM5.41 20L4 18.59l7.72-7.72 1.47 1.35L5.41 20z\"/>\n",
       "  </svg>\n",
       "      </button>\n",
       "      \n",
       "  <style>\n",
       "    .colab-df-container {\n",
       "      display:flex;\n",
       "      flex-wrap:wrap;\n",
       "      gap: 12px;\n",
       "    }\n",
       "\n",
       "    .colab-df-convert {\n",
       "      background-color: #E8F0FE;\n",
       "      border: none;\n",
       "      border-radius: 50%;\n",
       "      cursor: pointer;\n",
       "      display: none;\n",
       "      fill: #1967D2;\n",
       "      height: 32px;\n",
       "      padding: 0 0 0 0;\n",
       "      width: 32px;\n",
       "    }\n",
       "\n",
       "    .colab-df-convert:hover {\n",
       "      background-color: #E2EBFA;\n",
       "      box-shadow: 0px 1px 2px rgba(60, 64, 67, 0.3), 0px 1px 3px 1px rgba(60, 64, 67, 0.15);\n",
       "      fill: #174EA6;\n",
       "    }\n",
       "\n",
       "    [theme=dark] .colab-df-convert {\n",
       "      background-color: #3B4455;\n",
       "      fill: #D2E3FC;\n",
       "    }\n",
       "\n",
       "    [theme=dark] .colab-df-convert:hover {\n",
       "      background-color: #434B5C;\n",
       "      box-shadow: 0px 1px 3px 1px rgba(0, 0, 0, 0.15);\n",
       "      filter: drop-shadow(0px 1px 2px rgba(0, 0, 0, 0.3));\n",
       "      fill: #FFFFFF;\n",
       "    }\n",
       "  </style>\n",
       "\n",
       "      <script>\n",
       "        const buttonEl =\n",
       "          document.querySelector('#df-afc29fea-1e31-49bb-bc91-bf56e10e0f48 button.colab-df-convert');\n",
       "        buttonEl.style.display =\n",
       "          google.colab.kernel.accessAllowed ? 'block' : 'none';\n",
       "\n",
       "        async function convertToInteractive(key) {\n",
       "          const element = document.querySelector('#df-afc29fea-1e31-49bb-bc91-bf56e10e0f48');\n",
       "          const dataTable =\n",
       "            await google.colab.kernel.invokeFunction('convertToInteractive',\n",
       "                                                     [key], {});\n",
       "          if (!dataTable) return;\n",
       "\n",
       "          const docLinkHtml = 'Like what you see? Visit the ' +\n",
       "            '<a target=\"_blank\" href=https://colab.research.google.com/notebooks/data_table.ipynb>data table notebook</a>'\n",
       "            + ' to learn more about interactive tables.';\n",
       "          element.innerHTML = '';\n",
       "          dataTable['output_type'] = 'display_data';\n",
       "          await google.colab.output.renderOutput(dataTable, element);\n",
       "          const docLink = document.createElement('div');\n",
       "          docLink.innerHTML = docLinkHtml;\n",
       "          element.appendChild(docLink);\n",
       "        }\n",
       "      </script>\n",
       "    </div>\n",
       "  </div>\n",
       "  "
      ],
      "text/plain": [
       "              x         y         z\n",
       "0      0.332048 -1.573504  0.305736\n",
       "1      0.315777 -1.570142  0.287161\n",
       "2      0.429668 -1.563419  0.424621\n",
       "3      0.612708 -1.430641  1.000470\n",
       "4      0.431702 -1.575185  0.688397\n",
       "...         ...       ...       ...\n",
       "43468  0.866929 -1.291140  0.025242\n",
       "43469  0.866929 -1.291140  0.025242\n",
       "43470  0.866929 -1.289460  0.023385\n",
       "43471  0.866929 -1.291140  0.025242\n",
       "43472  0.866929 -1.289460  0.025242\n",
       "\n",
       "[43473 rows x 3 columns]"
      ]
     },
     "execution_count": 65,
     "metadata": {},
     "output_type": "execute_result"
    }
   ],
   "source": [
    "val_data.index = np.arange(0, len(val_data))\n",
    "val_data"
   ]
  },
  {
   "cell_type": "code",
   "execution_count": 66,
   "metadata": {
    "colab": {
     "base_uri": "https://localhost:8080/",
     "height": 424
    },
    "id": "LcoDcrJVGwIg",
    "outputId": "32d654ff-eef1-47ac-faf6-682125252ef5"
   },
   "outputs": [
    {
     "data": {
      "text/html": [
       "\n",
       "  <div id=\"df-f01c5e08-173d-4885-bece-25c60e8756aa\">\n",
       "    <div class=\"colab-df-container\">\n",
       "      <div>\n",
       "<style scoped>\n",
       "    .dataframe tbody tr th:only-of-type {\n",
       "        vertical-align: middle;\n",
       "    }\n",
       "\n",
       "    .dataframe tbody tr th {\n",
       "        vertical-align: top;\n",
       "    }\n",
       "\n",
       "    .dataframe thead th {\n",
       "        text-align: right;\n",
       "    }\n",
       "</style>\n",
       "<table border=\"1\" class=\"dataframe\">\n",
       "  <thead>\n",
       "    <tr style=\"text-align: right;\">\n",
       "      <th></th>\n",
       "      <th>x</th>\n",
       "      <th>y</th>\n",
       "      <th>z</th>\n",
       "    </tr>\n",
       "  </thead>\n",
       "  <tbody>\n",
       "    <tr>\n",
       "      <th>0</th>\n",
       "      <td>-0.318759</td>\n",
       "      <td>1.317360</td>\n",
       "      <td>-0.591473</td>\n",
       "    </tr>\n",
       "    <tr>\n",
       "      <th>1</th>\n",
       "      <td>-0.688905</td>\n",
       "      <td>1.621573</td>\n",
       "      <td>0.454343</td>\n",
       "    </tr>\n",
       "    <tr>\n",
       "      <th>2</th>\n",
       "      <td>-0.552642</td>\n",
       "      <td>1.340891</td>\n",
       "      <td>-0.500452</td>\n",
       "    </tr>\n",
       "    <tr>\n",
       "      <th>3</th>\n",
       "      <td>-1.292934</td>\n",
       "      <td>0.799694</td>\n",
       "      <td>-0.463301</td>\n",
       "    </tr>\n",
       "    <tr>\n",
       "      <th>4</th>\n",
       "      <td>-0.835336</td>\n",
       "      <td>1.243408</td>\n",
       "      <td>-0.164231</td>\n",
       "    </tr>\n",
       "    <tr>\n",
       "      <th>...</th>\n",
       "      <td>...</td>\n",
       "      <td>...</td>\n",
       "      <td>...</td>\n",
       "    </tr>\n",
       "    <tr>\n",
       "      <th>101433</th>\n",
       "      <td>-0.611622</td>\n",
       "      <td>1.438373</td>\n",
       "      <td>-0.502310</td>\n",
       "    </tr>\n",
       "    <tr>\n",
       "      <th>101434</th>\n",
       "      <td>-0.461123</td>\n",
       "      <td>1.483753</td>\n",
       "      <td>-0.442867</td>\n",
       "    </tr>\n",
       "    <tr>\n",
       "      <th>101435</th>\n",
       "      <td>0.990989</td>\n",
       "      <td>-0.828938</td>\n",
       "      <td>1.202946</td>\n",
       "    </tr>\n",
       "    <tr>\n",
       "      <th>101436</th>\n",
       "      <td>0.722531</td>\n",
       "      <td>-1.420557</td>\n",
       "      <td>1.000470</td>\n",
       "    </tr>\n",
       "    <tr>\n",
       "      <th>101437</th>\n",
       "      <td>0.502884</td>\n",
       "      <td>-1.548293</td>\n",
       "      <td>0.565797</td>\n",
       "    </tr>\n",
       "  </tbody>\n",
       "</table>\n",
       "<p>101438 rows × 3 columns</p>\n",
       "</div>\n",
       "      <button class=\"colab-df-convert\" onclick=\"convertToInteractive('df-f01c5e08-173d-4885-bece-25c60e8756aa')\"\n",
       "              title=\"Convert this dataframe to an interactive table.\"\n",
       "              style=\"display:none;\">\n",
       "        \n",
       "  <svg xmlns=\"http://www.w3.org/2000/svg\" height=\"24px\"viewBox=\"0 0 24 24\"\n",
       "       width=\"24px\">\n",
       "    <path d=\"M0 0h24v24H0V0z\" fill=\"none\"/>\n",
       "    <path d=\"M18.56 5.44l.94 2.06.94-2.06 2.06-.94-2.06-.94-.94-2.06-.94 2.06-2.06.94zm-11 1L8.5 8.5l.94-2.06 2.06-.94-2.06-.94L8.5 2.5l-.94 2.06-2.06.94zm10 10l.94 2.06.94-2.06 2.06-.94-2.06-.94-.94-2.06-.94 2.06-2.06.94z\"/><path d=\"M17.41 7.96l-1.37-1.37c-.4-.4-.92-.59-1.43-.59-.52 0-1.04.2-1.43.59L10.3 9.45l-7.72 7.72c-.78.78-.78 2.05 0 2.83L4 21.41c.39.39.9.59 1.41.59.51 0 1.02-.2 1.41-.59l7.78-7.78 2.81-2.81c.8-.78.8-2.07 0-2.86zM5.41 20L4 18.59l7.72-7.72 1.47 1.35L5.41 20z\"/>\n",
       "  </svg>\n",
       "      </button>\n",
       "      \n",
       "  <style>\n",
       "    .colab-df-container {\n",
       "      display:flex;\n",
       "      flex-wrap:wrap;\n",
       "      gap: 12px;\n",
       "    }\n",
       "\n",
       "    .colab-df-convert {\n",
       "      background-color: #E8F0FE;\n",
       "      border: none;\n",
       "      border-radius: 50%;\n",
       "      cursor: pointer;\n",
       "      display: none;\n",
       "      fill: #1967D2;\n",
       "      height: 32px;\n",
       "      padding: 0 0 0 0;\n",
       "      width: 32px;\n",
       "    }\n",
       "\n",
       "    .colab-df-convert:hover {\n",
       "      background-color: #E2EBFA;\n",
       "      box-shadow: 0px 1px 2px rgba(60, 64, 67, 0.3), 0px 1px 3px 1px rgba(60, 64, 67, 0.15);\n",
       "      fill: #174EA6;\n",
       "    }\n",
       "\n",
       "    [theme=dark] .colab-df-convert {\n",
       "      background-color: #3B4455;\n",
       "      fill: #D2E3FC;\n",
       "    }\n",
       "\n",
       "    [theme=dark] .colab-df-convert:hover {\n",
       "      background-color: #434B5C;\n",
       "      box-shadow: 0px 1px 3px 1px rgba(0, 0, 0, 0.15);\n",
       "      filter: drop-shadow(0px 1px 2px rgba(0, 0, 0, 0.3));\n",
       "      fill: #FFFFFF;\n",
       "    }\n",
       "  </style>\n",
       "\n",
       "      <script>\n",
       "        const buttonEl =\n",
       "          document.querySelector('#df-f01c5e08-173d-4885-bece-25c60e8756aa button.colab-df-convert');\n",
       "        buttonEl.style.display =\n",
       "          google.colab.kernel.accessAllowed ? 'block' : 'none';\n",
       "\n",
       "        async function convertToInteractive(key) {\n",
       "          const element = document.querySelector('#df-f01c5e08-173d-4885-bece-25c60e8756aa');\n",
       "          const dataTable =\n",
       "            await google.colab.kernel.invokeFunction('convertToInteractive',\n",
       "                                                     [key], {});\n",
       "          if (!dataTable) return;\n",
       "\n",
       "          const docLinkHtml = 'Like what you see? Visit the ' +\n",
       "            '<a target=\"_blank\" href=https://colab.research.google.com/notebooks/data_table.ipynb>data table notebook</a>'\n",
       "            + ' to learn more about interactive tables.';\n",
       "          element.innerHTML = '';\n",
       "          dataTable['output_type'] = 'display_data';\n",
       "          await google.colab.output.renderOutput(dataTable, element);\n",
       "          const docLink = document.createElement('div');\n",
       "          docLink.innerHTML = docLinkHtml;\n",
       "          element.appendChild(docLink);\n",
       "        }\n",
       "      </script>\n",
       "    </div>\n",
       "  </div>\n",
       "  "
      ],
      "text/plain": [
       "               x         y         z\n",
       "0      -0.318759  1.317360 -0.591473\n",
       "1      -0.688905  1.621573  0.454343\n",
       "2      -0.552642  1.340891 -0.500452\n",
       "3      -1.292934  0.799694 -0.463301\n",
       "4      -0.835336  1.243408 -0.164231\n",
       "...          ...       ...       ...\n",
       "101433 -0.611622  1.438373 -0.502310\n",
       "101434 -0.461123  1.483753 -0.442867\n",
       "101435  0.990989 -0.828938  1.202946\n",
       "101436  0.722531 -1.420557  1.000470\n",
       "101437  0.502884 -1.548293  0.565797\n",
       "\n",
       "[101438 rows x 3 columns]"
      ]
     },
     "execution_count": 66,
     "metadata": {},
     "output_type": "execute_result"
    }
   ],
   "source": [
    "train_data"
   ]
  },
  {
   "cell_type": "markdown",
   "metadata": {
    "id": "tsMZM1u6xs5E"
   },
   "source": [
    "##### **Data Windowing**\n",
    "\n",
    "La funzione *data_windowing* prende in input un dataframe (*data*), \n",
    "il numero di righe per il quale vogliamo creare una sequenza (*lookback*) \n",
    "ed uno shift di spostamento sul dataframe (*step*). \n",
    "Tornerà due arrays: uno contenente le sequenze create e l'altro contenente i relativi target delle sequenze"
   ]
  },
  {
   "cell_type": "code",
   "execution_count": 67,
   "metadata": {
    "id": "8XiYSM_xtDlb"
   },
   "outputs": [],
   "source": [
    "def data_windowing(data, lookback, step):\n",
    "    \n",
    "    samples = []\n",
    "    targets = []\n",
    "\n",
    "    for i in range(0, len(data) - lookback - 1, step):\n",
    "        samples.append(data[i: i + lookback])\n",
    "        targets.append(data[i + lookback])\n",
    "    \n",
    "    samples = np.array(samples)\n",
    "    samples = samples.reshape((samples.shape[0], samples.shape[1], 1))\n",
    "    \n",
    "    targets = np.array(targets)\n",
    "    targets = targets.reshape((targets.shape[0], 1))\n",
    "    \n",
    "    return samples, targets"
   ]
  },
  {
   "cell_type": "code",
   "execution_count": 68,
   "metadata": {
    "id": "bEpmrdrzEGKP"
   },
   "outputs": [],
   "source": [
    "x_train_x, y_train_x = data_windowing(train_data['x'], 30, 6)\n",
    "x_train_y, y_train_y = data_windowing(train_data['y'], 30, 6)\n",
    "x_train_z, y_train_z = data_windowing(train_data['z'], 30, 6)"
   ]
  },
  {
   "cell_type": "code",
   "execution_count": 69,
   "metadata": {
    "id": "1ARdVxvsG0gt"
   },
   "outputs": [],
   "source": [
    "x_val_x, y_val_x = data_windowing(val_data['x'], 30, 6)\n",
    "x_val_y, y_val_y = data_windowing(val_data['y'], 30, 6)\n",
    "x_val_z, y_val_z = data_windowing(val_data['z'], 30, 6)"
   ]
  },
  {
   "cell_type": "code",
   "execution_count": 70,
   "metadata": {
    "id": "NBihJEw9EWPw"
   },
   "outputs": [],
   "source": [
    "x_test_x, y_test_x = data_windowing(test_data['x'], 30, 6)\n",
    "x_test_y, y_test_y = data_windowing(test_data['y'], 30, 6)\n",
    "x_test_z, y_test_z = data_windowing(test_data['z'], 30, 6)"
   ]
  },
  {
   "cell_type": "markdown",
   "metadata": {
    "id": "016xcQmpxs5H"
   },
   "source": [
    "## **Modeling**"
   ]
  },
  {
   "cell_type": "code",
   "execution_count": 71,
   "metadata": {
    "colab": {
     "base_uri": "https://localhost:8080/"
    },
    "id": "se9yD-8htNQI",
    "outputId": "52de2fa1-ea20-40cd-b204-9dab245570dd"
   },
   "outputs": [
    {
     "name": "stdout",
     "output_type": "stream",
     "text": [
      "Looking in indexes: https://pypi.org/simple, https://us-python.pkg.dev/colab-wheels/public/simple/\n",
      "Requirement already satisfied: keras-tuner in /usr/local/lib/python3.7/dist-packages (1.1.2)\n",
      "Requirement already satisfied: ipython in /usr/local/lib/python3.7/dist-packages (from keras-tuner) (5.5.0)\n",
      "Requirement already satisfied: requests in /usr/local/lib/python3.7/dist-packages (from keras-tuner) (2.23.0)\n",
      "Requirement already satisfied: numpy in /usr/local/lib/python3.7/dist-packages (from keras-tuner) (1.21.6)\n",
      "Requirement already satisfied: packaging in /usr/local/lib/python3.7/dist-packages (from keras-tuner) (21.3)\n",
      "Requirement already satisfied: kt-legacy in /usr/local/lib/python3.7/dist-packages (from keras-tuner) (1.0.4)\n",
      "Requirement already satisfied: tensorboard in /usr/local/lib/python3.7/dist-packages (from keras-tuner) (2.8.0)\n",
      "Requirement already satisfied: setuptools>=18.5 in /usr/local/lib/python3.7/dist-packages (from ipython->keras-tuner) (57.4.0)\n",
      "Requirement already satisfied: pexpect in /usr/local/lib/python3.7/dist-packages (from ipython->keras-tuner) (4.8.0)\n",
      "Requirement already satisfied: traitlets>=4.2 in /usr/local/lib/python3.7/dist-packages (from ipython->keras-tuner) (5.1.1)\n",
      "Requirement already satisfied: prompt-toolkit<2.0.0,>=1.0.4 in /usr/local/lib/python3.7/dist-packages (from ipython->keras-tuner) (1.0.18)\n",
      "Requirement already satisfied: pickleshare in /usr/local/lib/python3.7/dist-packages (from ipython->keras-tuner) (0.7.5)\n",
      "Requirement already satisfied: simplegeneric>0.8 in /usr/local/lib/python3.7/dist-packages (from ipython->keras-tuner) (0.8.1)\n",
      "Requirement already satisfied: decorator in /usr/local/lib/python3.7/dist-packages (from ipython->keras-tuner) (4.4.2)\n",
      "Requirement already satisfied: pygments in /usr/local/lib/python3.7/dist-packages (from ipython->keras-tuner) (2.6.1)\n",
      "Requirement already satisfied: wcwidth in /usr/local/lib/python3.7/dist-packages (from prompt-toolkit<2.0.0,>=1.0.4->ipython->keras-tuner) (0.2.5)\n",
      "Requirement already satisfied: six>=1.9.0 in /usr/local/lib/python3.7/dist-packages (from prompt-toolkit<2.0.0,>=1.0.4->ipython->keras-tuner) (1.15.0)\n",
      "Requirement already satisfied: pyparsing!=3.0.5,>=2.0.2 in /usr/local/lib/python3.7/dist-packages (from packaging->keras-tuner) (3.0.9)\n",
      "Requirement already satisfied: ptyprocess>=0.5 in /usr/local/lib/python3.7/dist-packages (from pexpect->ipython->keras-tuner) (0.7.0)\n",
      "Requirement already satisfied: idna<3,>=2.5 in /usr/local/lib/python3.7/dist-packages (from requests->keras-tuner) (2.10)\n",
      "Requirement already satisfied: urllib3!=1.25.0,!=1.25.1,<1.26,>=1.21.1 in /usr/local/lib/python3.7/dist-packages (from requests->keras-tuner) (1.24.3)\n",
      "Requirement already satisfied: certifi>=2017.4.17 in /usr/local/lib/python3.7/dist-packages (from requests->keras-tuner) (2022.6.15)\n",
      "Requirement already satisfied: chardet<4,>=3.0.2 in /usr/local/lib/python3.7/dist-packages (from requests->keras-tuner) (3.0.4)\n",
      "Requirement already satisfied: tensorboard-plugin-wit>=1.6.0 in /usr/local/lib/python3.7/dist-packages (from tensorboard->keras-tuner) (1.8.1)\n",
      "Requirement already satisfied: google-auth-oauthlib<0.5,>=0.4.1 in /usr/local/lib/python3.7/dist-packages (from tensorboard->keras-tuner) (0.4.6)\n",
      "Requirement already satisfied: werkzeug>=0.11.15 in /usr/local/lib/python3.7/dist-packages (from tensorboard->keras-tuner) (1.0.1)\n",
      "Requirement already satisfied: google-auth<3,>=1.6.3 in /usr/local/lib/python3.7/dist-packages (from tensorboard->keras-tuner) (1.35.0)\n",
      "Requirement already satisfied: absl-py>=0.4 in /usr/local/lib/python3.7/dist-packages (from tensorboard->keras-tuner) (1.1.0)\n",
      "Requirement already satisfied: markdown>=2.6.8 in /usr/local/lib/python3.7/dist-packages (from tensorboard->keras-tuner) (3.3.7)\n",
      "Requirement already satisfied: tensorboard-data-server<0.7.0,>=0.6.0 in /usr/local/lib/python3.7/dist-packages (from tensorboard->keras-tuner) (0.6.1)\n",
      "Requirement already satisfied: grpcio>=1.24.3 in /usr/local/lib/python3.7/dist-packages (from tensorboard->keras-tuner) (1.46.3)\n",
      "Requirement already satisfied: protobuf>=3.6.0 in /usr/local/lib/python3.7/dist-packages (from tensorboard->keras-tuner) (3.17.3)\n",
      "Requirement already satisfied: wheel>=0.26 in /usr/local/lib/python3.7/dist-packages (from tensorboard->keras-tuner) (0.37.1)\n",
      "Requirement already satisfied: rsa<5,>=3.1.4 in /usr/local/lib/python3.7/dist-packages (from google-auth<3,>=1.6.3->tensorboard->keras-tuner) (4.8)\n",
      "Requirement already satisfied: pyasn1-modules>=0.2.1 in /usr/local/lib/python3.7/dist-packages (from google-auth<3,>=1.6.3->tensorboard->keras-tuner) (0.2.8)\n",
      "Requirement already satisfied: cachetools<5.0,>=2.0.0 in /usr/local/lib/python3.7/dist-packages (from google-auth<3,>=1.6.3->tensorboard->keras-tuner) (4.2.4)\n",
      "Requirement already satisfied: requests-oauthlib>=0.7.0 in /usr/local/lib/python3.7/dist-packages (from google-auth-oauthlib<0.5,>=0.4.1->tensorboard->keras-tuner) (1.3.1)\n",
      "Requirement already satisfied: importlib-metadata>=4.4 in /usr/local/lib/python3.7/dist-packages (from markdown>=2.6.8->tensorboard->keras-tuner) (4.11.4)\n",
      "Requirement already satisfied: typing-extensions>=3.6.4 in /usr/local/lib/python3.7/dist-packages (from importlib-metadata>=4.4->markdown>=2.6.8->tensorboard->keras-tuner) (4.1.1)\n",
      "Requirement already satisfied: zipp>=0.5 in /usr/local/lib/python3.7/dist-packages (from importlib-metadata>=4.4->markdown>=2.6.8->tensorboard->keras-tuner) (3.8.0)\n",
      "Requirement already satisfied: pyasn1<0.5.0,>=0.4.6 in /usr/local/lib/python3.7/dist-packages (from pyasn1-modules>=0.2.1->google-auth<3,>=1.6.3->tensorboard->keras-tuner) (0.4.8)\n",
      "Requirement already satisfied: oauthlib>=3.0.0 in /usr/local/lib/python3.7/dist-packages (from requests-oauthlib>=0.7.0->google-auth-oauthlib<0.5,>=0.4.1->tensorboard->keras-tuner) (3.2.0)\n"
     ]
    }
   ],
   "source": [
    "pip install keras-tuner --upgrade"
   ]
  },
  {
   "cell_type": "code",
   "execution_count": 72,
   "metadata": {
    "colab": {
     "base_uri": "https://localhost:8080/"
    },
    "id": "opgmivXAxs5O",
    "outputId": "0b8fef03-cd7e-4464-859b-5fb0b0da4517"
   },
   "outputs": [
    {
     "name": "stdout",
     "output_type": "stream",
     "text": [
      "Looking in indexes: https://pypi.org/simple, https://us-python.pkg.dev/colab-wheels/public/simple/\n",
      "Requirement already satisfied: tensorflow in /usr/local/lib/python3.7/dist-packages (2.8.2+zzzcolab20220527125636)\n",
      "Requirement already satisfied: gast>=0.2.1 in /usr/local/lib/python3.7/dist-packages (from tensorflow) (0.5.3)\n",
      "Requirement already satisfied: six>=1.12.0 in /usr/local/lib/python3.7/dist-packages (from tensorflow) (1.15.0)\n",
      "Requirement already satisfied: h5py>=2.9.0 in /usr/local/lib/python3.7/dist-packages (from tensorflow) (3.1.0)\n",
      "Requirement already satisfied: protobuf<3.20,>=3.9.2 in /usr/local/lib/python3.7/dist-packages (from tensorflow) (3.17.3)\n",
      "Requirement already satisfied: flatbuffers>=1.12 in /usr/local/lib/python3.7/dist-packages (from tensorflow) (2.0)\n",
      "Requirement already satisfied: grpcio<2.0,>=1.24.3 in /usr/local/lib/python3.7/dist-packages (from tensorflow) (1.46.3)\n",
      "Requirement already satisfied: wrapt>=1.11.0 in /usr/local/lib/python3.7/dist-packages (from tensorflow) (1.14.1)\n",
      "Requirement already satisfied: setuptools in /usr/local/lib/python3.7/dist-packages (from tensorflow) (57.4.0)\n",
      "Requirement already satisfied: typing-extensions>=3.6.6 in /usr/local/lib/python3.7/dist-packages (from tensorflow) (4.1.1)\n",
      "Requirement already satisfied: termcolor>=1.1.0 in /usr/local/lib/python3.7/dist-packages (from tensorflow) (1.1.0)\n",
      "Requirement already satisfied: libclang>=9.0.1 in /usr/local/lib/python3.7/dist-packages (from tensorflow) (14.0.1)\n",
      "Requirement already satisfied: tensorboard<2.9,>=2.8 in /usr/local/lib/python3.7/dist-packages (from tensorflow) (2.8.0)\n",
      "Requirement already satisfied: keras<2.9,>=2.8.0rc0 in /usr/local/lib/python3.7/dist-packages (from tensorflow) (2.8.0)\n",
      "Requirement already satisfied: tensorflow-estimator<2.9,>=2.8 in /usr/local/lib/python3.7/dist-packages (from tensorflow) (2.8.0)\n",
      "Requirement already satisfied: google-pasta>=0.1.1 in /usr/local/lib/python3.7/dist-packages (from tensorflow) (0.2.0)\n",
      "Requirement already satisfied: tensorflow-io-gcs-filesystem>=0.23.1 in /usr/local/lib/python3.7/dist-packages (from tensorflow) (0.26.0)\n",
      "Requirement already satisfied: numpy>=1.20 in /usr/local/lib/python3.7/dist-packages (from tensorflow) (1.21.6)\n",
      "Requirement already satisfied: astunparse>=1.6.0 in /usr/local/lib/python3.7/dist-packages (from tensorflow) (1.6.3)\n",
      "Requirement already satisfied: keras-preprocessing>=1.1.1 in /usr/local/lib/python3.7/dist-packages (from tensorflow) (1.1.2)\n",
      "Requirement already satisfied: absl-py>=0.4.0 in /usr/local/lib/python3.7/dist-packages (from tensorflow) (1.1.0)\n",
      "Requirement already satisfied: opt-einsum>=2.3.2 in /usr/local/lib/python3.7/dist-packages (from tensorflow) (3.3.0)\n",
      "Requirement already satisfied: wheel<1.0,>=0.23.0 in /usr/local/lib/python3.7/dist-packages (from astunparse>=1.6.0->tensorflow) (0.37.1)\n",
      "Requirement already satisfied: cached-property in /usr/local/lib/python3.7/dist-packages (from h5py>=2.9.0->tensorflow) (1.5.2)\n",
      "Requirement already satisfied: tensorboard-data-server<0.7.0,>=0.6.0 in /usr/local/lib/python3.7/dist-packages (from tensorboard<2.9,>=2.8->tensorflow) (0.6.1)\n",
      "Requirement already satisfied: google-auth-oauthlib<0.5,>=0.4.1 in /usr/local/lib/python3.7/dist-packages (from tensorboard<2.9,>=2.8->tensorflow) (0.4.6)\n",
      "Requirement already satisfied: markdown>=2.6.8 in /usr/local/lib/python3.7/dist-packages (from tensorboard<2.9,>=2.8->tensorflow) (3.3.7)\n",
      "Requirement already satisfied: requests<3,>=2.21.0 in /usr/local/lib/python3.7/dist-packages (from tensorboard<2.9,>=2.8->tensorflow) (2.23.0)\n",
      "Requirement already satisfied: werkzeug>=0.11.15 in /usr/local/lib/python3.7/dist-packages (from tensorboard<2.9,>=2.8->tensorflow) (1.0.1)\n",
      "Requirement already satisfied: google-auth<3,>=1.6.3 in /usr/local/lib/python3.7/dist-packages (from tensorboard<2.9,>=2.8->tensorflow) (1.35.0)\n",
      "Requirement already satisfied: tensorboard-plugin-wit>=1.6.0 in /usr/local/lib/python3.7/dist-packages (from tensorboard<2.9,>=2.8->tensorflow) (1.8.1)\n",
      "Requirement already satisfied: pyasn1-modules>=0.2.1 in /usr/local/lib/python3.7/dist-packages (from google-auth<3,>=1.6.3->tensorboard<2.9,>=2.8->tensorflow) (0.2.8)\n",
      "Requirement already satisfied: rsa<5,>=3.1.4 in /usr/local/lib/python3.7/dist-packages (from google-auth<3,>=1.6.3->tensorboard<2.9,>=2.8->tensorflow) (4.8)\n",
      "Requirement already satisfied: cachetools<5.0,>=2.0.0 in /usr/local/lib/python3.7/dist-packages (from google-auth<3,>=1.6.3->tensorboard<2.9,>=2.8->tensorflow) (4.2.4)\n",
      "Requirement already satisfied: requests-oauthlib>=0.7.0 in /usr/local/lib/python3.7/dist-packages (from google-auth-oauthlib<0.5,>=0.4.1->tensorboard<2.9,>=2.8->tensorflow) (1.3.1)\n",
      "Requirement already satisfied: importlib-metadata>=4.4 in /usr/local/lib/python3.7/dist-packages (from markdown>=2.6.8->tensorboard<2.9,>=2.8->tensorflow) (4.11.4)\n",
      "Requirement already satisfied: zipp>=0.5 in /usr/local/lib/python3.7/dist-packages (from importlib-metadata>=4.4->markdown>=2.6.8->tensorboard<2.9,>=2.8->tensorflow) (3.8.0)\n",
      "Requirement already satisfied: pyasn1<0.5.0,>=0.4.6 in /usr/local/lib/python3.7/dist-packages (from pyasn1-modules>=0.2.1->google-auth<3,>=1.6.3->tensorboard<2.9,>=2.8->tensorflow) (0.4.8)\n",
      "Requirement already satisfied: urllib3!=1.25.0,!=1.25.1,<1.26,>=1.21.1 in /usr/local/lib/python3.7/dist-packages (from requests<3,>=2.21.0->tensorboard<2.9,>=2.8->tensorflow) (1.24.3)\n",
      "Requirement already satisfied: certifi>=2017.4.17 in /usr/local/lib/python3.7/dist-packages (from requests<3,>=2.21.0->tensorboard<2.9,>=2.8->tensorflow) (2022.6.15)\n",
      "Requirement already satisfied: chardet<4,>=3.0.2 in /usr/local/lib/python3.7/dist-packages (from requests<3,>=2.21.0->tensorboard<2.9,>=2.8->tensorflow) (3.0.4)\n",
      "Requirement already satisfied: idna<3,>=2.5 in /usr/local/lib/python3.7/dist-packages (from requests<3,>=2.21.0->tensorboard<2.9,>=2.8->tensorflow) (2.10)\n",
      "Requirement already satisfied: oauthlib>=3.0.0 in /usr/local/lib/python3.7/dist-packages (from requests-oauthlib>=0.7.0->google-auth-oauthlib<0.5,>=0.4.1->tensorboard<2.9,>=2.8->tensorflow) (3.2.0)\n"
     ]
    }
   ],
   "source": [
    "pip install tensorflow"
   ]
  },
  {
   "cell_type": "code",
   "execution_count": 73,
   "metadata": {
    "id": "pPF82GYSyVx2"
   },
   "outputs": [],
   "source": [
    "import tensorflow as tf\n",
    "from tensorflow.keras import models, layers\n",
    "\n",
    "import keras_tuner as kt\n",
    "\n",
    "my_seed = 44\n",
    "np.random.seed(my_seed)\n",
    "tf.random.set_seed(my_seed)\n",
    "#from tensorflow.keras import layers\n",
    "#from tensorflow.keras.models import Sequential"
   ]
  },
  {
   "cell_type": "markdown",
   "metadata": {
    "id": "tTgsPJrSxs5O"
   },
   "source": [
    "##### **Create the models**\n",
    "\n",
    "Dato l'utilizzo di un hypertuner parameters questa funzione verrà richiamata per ricostruire il tipo di modello sulla base dei valori fissati sulla quale verrà effettuata la ricerca per poter costruire quello che sarà il modello basato sui best hyperparameters. "
   ]
  },
  {
   "cell_type": "code",
   "execution_count": 74,
   "metadata": {
    "id": "UqSfy6cEsRgj"
   },
   "outputs": [],
   "source": [
    "def build_model(hp):\n",
    "    model = models.Sequential()\n",
    "    \n",
    "    # Tune the number of units in the first Dense layer\n",
    "    # Choose an optimal value between 16-256\n",
    "    \n",
    "    hp_units1 = hp.Int('units1', min_value=16, max_value=128, step=16)\n",
    "    model.add(layers.LSTM(hp_units1))\n",
    "    model.add(layers.Dense(1))\n",
    "    \n",
    "    # Tune the learning rate for the optimizer\n",
    "    # Choose an optimal value from 0.01, 0.001, or 0.0001\n",
    "    hp_lr = hp.Choice('learning_rate', values=[1e-2, 1e-3, 1e-4])\n",
    "    model.compile(optimizer=tf.keras.optimizers.Adam(learning_rate=hp_lr), loss = 'mae')\n",
    "    \n",
    "    return model"
   ]
  },
  {
   "cell_type": "code",
   "execution_count": 75,
   "metadata": {
    "id": "uVRlNU3ZtXmp"
   },
   "outputs": [],
   "source": [
    "early_stop = tf.keras.callbacks.EarlyStopping(monitor='loss', patience=5)"
   ]
  },
  {
   "cell_type": "code",
   "execution_count": 76,
   "metadata": {
    "id": "ZNh-JNFBAYX8"
   },
   "outputs": [],
   "source": [
    "import os\n",
    "import shutil\n",
    "\n",
    "if os.path.exists('project_dir') and os.path.isdir('project_dir'):\n",
    "    shutil.rmtree('project_dir')"
   ]
  },
  {
   "cell_type": "code",
   "execution_count": 77,
   "metadata": {
    "id": "H9FFY7q4swBH"
   },
   "outputs": [],
   "source": [
    "tuner_x = kt.Hyperband(build_model,\n",
    "                     objective='loss',\n",
    "                     seed=my_seed,\n",
    "                     max_epochs=15,\n",
    "                     factor=3,\n",
    "                     directory='project_dir',\n",
    "                     project_name='next_value_prediction_x',\n",
    "                     overwrite=True)"
   ]
  },
  {
   "cell_type": "code",
   "execution_count": 78,
   "metadata": {
    "id": "dUquWQdvdIQ5"
   },
   "outputs": [],
   "source": [
    "tuner_y = kt.Hyperband(build_model,\n",
    "                     objective='loss',\n",
    "                     seed=my_seed,\n",
    "                     max_epochs=15,\n",
    "                     factor=3,\n",
    "                     directory='project_dir',\n",
    "                     project_name='next_value_prediction_y',\n",
    "                     overwrite=True)"
   ]
  },
  {
   "cell_type": "code",
   "execution_count": 79,
   "metadata": {
    "id": "-27pWMZ-dM3O"
   },
   "outputs": [],
   "source": [
    "tuner_z = kt.Hyperband(build_model,\n",
    "                     objective='loss',\n",
    "                     seed=my_seed,\n",
    "                     max_epochs=15,\n",
    "                     factor=3,\n",
    "                     directory='project_dir',\n",
    "                     project_name='next_value_prediction_z',\n",
    "                     overwrite=True)"
   ]
  },
  {
   "cell_type": "code",
   "execution_count": 80,
   "metadata": {
    "colab": {
     "base_uri": "https://localhost:8080/"
    },
    "id": "Vlp0D0Yztc1g",
    "outputId": "fe71f07c-4b43-4787-b8d8-ce0fdada792d"
   },
   "outputs": [
    {
     "name": "stdout",
     "output_type": "stream",
     "text": [
      "Trial 30 Complete [00h 00m 43s]\n",
      "loss: 0.12165659666061401\n",
      "\n",
      "Best loss So Far: 0.11575865745544434\n",
      "Total elapsed time: 00h 09m 45s\n",
      "INFO:tensorflow:Oracle triggered exit\n"
     ]
    }
   ],
   "source": [
    "tuner_x.search(x_train_x, y_train_x, epochs=10, validation_data=(x_val_x,y_val_x), callbacks=[early_stop])"
   ]
  },
  {
   "cell_type": "code",
   "execution_count": 81,
   "metadata": {
    "colab": {
     "base_uri": "https://localhost:8080/"
    },
    "id": "w7i-VVw5eONm",
    "outputId": "47bfe144-d529-44a0-bb73-8d305ca447f4"
   },
   "outputs": [
    {
     "name": "stdout",
     "output_type": "stream",
     "text": [
      "Trial 30 Complete [00h 01m 23s]\n",
      "loss: 0.10291428118944168\n",
      "\n",
      "Best loss So Far: 0.09217530488967896\n",
      "Total elapsed time: 00h 13m 03s\n",
      "INFO:tensorflow:Oracle triggered exit\n"
     ]
    }
   ],
   "source": [
    "tuner_y.search(x_train_y, y_train_y, epochs=10, validation_data=(x_val_y,y_val_y), callbacks=[early_stop])"
   ]
  },
  {
   "cell_type": "code",
   "execution_count": 82,
   "metadata": {
    "colab": {
     "base_uri": "https://localhost:8080/"
    },
    "id": "8yfLE4cGeReN",
    "outputId": "ffc27096-d56f-4403-8fc8-933f33f58663"
   },
   "outputs": [
    {
     "name": "stdout",
     "output_type": "stream",
     "text": [
      "Trial 30 Complete [00h 01m 23s]\n",
      "loss: 0.11857489496469498\n",
      "\n",
      "Best loss So Far: 0.11550707370042801\n",
      "Total elapsed time: 00h 12m 10s\n",
      "INFO:tensorflow:Oracle triggered exit\n"
     ]
    }
   ],
   "source": [
    "tuner_z.search(x_train_z, y_train_z, epochs=10, validation_data=(x_val_z,y_val_z), callbacks=[early_stop])"
   ]
  },
  {
   "cell_type": "code",
   "execution_count": 83,
   "metadata": {
    "colab": {
     "base_uri": "https://localhost:8080/"
    },
    "id": "9m1Zh1tFFEY6",
    "outputId": "276b203b-603a-4ef5-c19f-2f6223ee4976"
   },
   "outputs": [
    {
     "data": {
      "text/plain": [
       "{'learning_rate': 0.001,\n",
       " 'tuner/bracket': 1,\n",
       " 'tuner/epochs': 15,\n",
       " 'tuner/initial_epoch': 5,\n",
       " 'tuner/round': 1,\n",
       " 'tuner/trial_id': '0022',\n",
       " 'units1': 96}"
      ]
     },
     "execution_count": 83,
     "metadata": {},
     "output_type": "execute_result"
    }
   ],
   "source": [
    "# Get the optimal hyperparameters for x\n",
    "best_hps_x = tuner_x.get_best_hyperparameters(num_trials=1)[0]\n",
    "\n",
    "#print(f\"\"\"\n",
    "#The hyperparameter search is complete. \n",
    "#The optimal number of units in the first densely-connected layer is {best_hps_x.get('units1')}.\n",
    "#The optimal learning rate for the optimizer is {best_hps_x.get('learning_rate')}.\n",
    "#\"\"\")\n",
    "\n",
    "best_hps_x.values"
   ]
  },
  {
   "cell_type": "code",
   "execution_count": 84,
   "metadata": {
    "colab": {
     "base_uri": "https://localhost:8080/"
    },
    "id": "DRIfUQOoedMJ",
    "outputId": "6f787090-5a14-4ec9-e4f6-dafad0bc1366"
   },
   "outputs": [
    {
     "data": {
      "text/plain": [
       "{'learning_rate': 0.001,\n",
       " 'tuner/bracket': 0,\n",
       " 'tuner/epochs': 15,\n",
       " 'tuner/initial_epoch': 0,\n",
       " 'tuner/round': 0,\n",
       " 'units1': 128}"
      ]
     },
     "execution_count": 84,
     "metadata": {},
     "output_type": "execute_result"
    }
   ],
   "source": [
    "# Get the optimal hyperparameters for y\n",
    "best_hps_y = tuner_y.get_best_hyperparameters(num_trials=1)[0]\n",
    "\n",
    "#print(f\"\"\"\n",
    "#The hyperparameter search is complete. \n",
    "#The optimal number of units in the first densely-connected layer is {best_hps_y.get('units1')}.\n",
    "#The optimal learning rate for the optimizer is {best_hps_y.get('learning_rate')}.\n",
    "#\"\"\")\n",
    "\n",
    "best_hps_y.values"
   ]
  },
  {
   "cell_type": "code",
   "execution_count": 85,
   "metadata": {
    "colab": {
     "base_uri": "https://localhost:8080/"
    },
    "id": "MhblbUngeijL",
    "outputId": "0d450fe2-b5c2-432a-ea4c-f60898195a09"
   },
   "outputs": [
    {
     "data": {
      "text/plain": [
       "{'learning_rate': 0.001,\n",
       " 'tuner/bracket': 0,\n",
       " 'tuner/epochs': 15,\n",
       " 'tuner/initial_epoch': 0,\n",
       " 'tuner/round': 0,\n",
       " 'units1': 128}"
      ]
     },
     "execution_count": 85,
     "metadata": {},
     "output_type": "execute_result"
    }
   ],
   "source": [
    "# Get the optimal hyperparameters for z\n",
    "best_hps_z = tuner_z.get_best_hyperparameters(num_trials=1)[0]\n",
    "\n",
    "#print(f\"\"\"\n",
    "#The hyperparameter search is complete. \n",
    "#The optimal number of units in the first densely-connected layer is {best_hps_z.get('units1')}.\n",
    "#The optimal learning rate for the optimizer is {best_hps_z.get('learning_rate')}.\n",
    "#\"\"\")\n",
    "\n",
    "best_hps_z.values"
   ]
  },
  {
   "cell_type": "code",
   "execution_count": 86,
   "metadata": {
    "colab": {
     "base_uri": "https://localhost:8080/"
    },
    "id": "rPYugmPcFMlb",
    "outputId": "4bfb99d6-7c19-4503-b14e-fbc72d8a16bf"
   },
   "outputs": [
    {
     "name": "stdout",
     "output_type": "stream",
     "text": [
      "Epoch 1/10\n",
      "529/529 [==============================] - 5s 6ms/step - loss: 0.1634 - val_loss: 0.1100\n",
      "Epoch 2/10\n",
      "529/529 [==============================] - 3s 5ms/step - loss: 0.1216 - val_loss: 0.1008\n",
      "Epoch 3/10\n",
      "529/529 [==============================] - 3s 5ms/step - loss: 0.1176 - val_loss: 0.0983\n",
      "Epoch 4/10\n",
      "529/529 [==============================] - 3s 5ms/step - loss: 0.1165 - val_loss: 0.1007\n",
      "Epoch 5/10\n",
      "529/529 [==============================] - 3s 5ms/step - loss: 0.1162 - val_loss: 0.0972\n",
      "Epoch 6/10\n",
      "529/529 [==============================] - 2s 5ms/step - loss: 0.1166 - val_loss: 0.1004\n",
      "Epoch 7/10\n",
      "529/529 [==============================] - 2s 5ms/step - loss: 0.1160 - val_loss: 0.0992\n",
      "Epoch 8/10\n",
      "529/529 [==============================] - 3s 5ms/step - loss: 0.1159 - val_loss: 0.0977\n",
      "Epoch 9/10\n",
      "529/529 [==============================] - 3s 5ms/step - loss: 0.1163 - val_loss: 0.0970\n",
      "Epoch 10/10\n",
      "529/529 [==============================] - 3s 5ms/step - loss: 0.1157 - val_loss: 0.0984\n"
     ]
    }
   ],
   "source": [
    "# Build the model for x with the optimal hyperparameters\n",
    "model_x = tuner_x.hypermodel.build(best_hps_x)\n",
    "model_x.compile(loss = 'mae', optimizer=tf.keras.optimizers.Adam(learning_rate=best_hps_x.get('learning_rate')))\n",
    "history_x = model_x.fit(x_train_x, y_train_x, epochs=10, validation_data=(x_val_x,y_val_x))"
   ]
  },
  {
   "cell_type": "code",
   "execution_count": 87,
   "metadata": {
    "colab": {
     "base_uri": "https://localhost:8080/"
    },
    "id": "Iuvr530kiluw",
    "outputId": "634215d2-36e6-47b6-fb99-edfe1f414771"
   },
   "outputs": [
    {
     "name": "stdout",
     "output_type": "stream",
     "text": [
      "Epoch 1/10\n",
      "529/529 [==============================] - 5s 6ms/step - loss: 0.1373 - val_loss: 0.0959\n",
      "Epoch 2/10\n",
      "529/529 [==============================] - 3s 6ms/step - loss: 0.0986 - val_loss: 0.0791\n",
      "Epoch 3/10\n",
      "529/529 [==============================] - 3s 5ms/step - loss: 0.0937 - val_loss: 0.0798\n",
      "Epoch 4/10\n",
      "529/529 [==============================] - 3s 5ms/step - loss: 0.0933 - val_loss: 0.0779\n",
      "Epoch 5/10\n",
      "529/529 [==============================] - 3s 5ms/step - loss: 0.0932 - val_loss: 0.0783\n",
      "Epoch 6/10\n",
      "529/529 [==============================] - 3s 5ms/step - loss: 0.0929 - val_loss: 0.0796\n",
      "Epoch 7/10\n",
      "529/529 [==============================] - 3s 6ms/step - loss: 0.0929 - val_loss: 0.0903\n",
      "Epoch 8/10\n",
      "529/529 [==============================] - 3s 5ms/step - loss: 0.0929 - val_loss: 0.0811\n",
      "Epoch 9/10\n",
      "529/529 [==============================] - 3s 6ms/step - loss: 0.0933 - val_loss: 0.0779\n",
      "Epoch 10/10\n",
      "529/529 [==============================] - 3s 6ms/step - loss: 0.0927 - val_loss: 0.0788\n"
     ]
    }
   ],
   "source": [
    "# Build the model for y with the optimal hyperparameters\n",
    "model_y = tuner_y.hypermodel.build(best_hps_y)\n",
    "model_y.compile(loss = 'mae', optimizer=tf.keras.optimizers.Adam(learning_rate=best_hps_y.get('learning_rate')))\n",
    "history_y = model_y.fit(x_train_y, y_train_y, epochs=10, validation_data=(x_val_y,y_val_y))"
   ]
  },
  {
   "cell_type": "code",
   "execution_count": 88,
   "metadata": {
    "colab": {
     "base_uri": "https://localhost:8080/"
    },
    "id": "-YGGw8uRimUi",
    "outputId": "66149c4b-5542-4ce4-a931-65da9968fe68"
   },
   "outputs": [
    {
     "name": "stdout",
     "output_type": "stream",
     "text": [
      "Epoch 1/10\n",
      "529/529 [==============================] - 5s 6ms/step - loss: 0.1649 - val_loss: 0.1154\n",
      "Epoch 2/10\n",
      "529/529 [==============================] - 3s 6ms/step - loss: 0.1202 - val_loss: 0.0995\n",
      "Epoch 3/10\n",
      "529/529 [==============================] - 3s 6ms/step - loss: 0.1176 - val_loss: 0.1064\n",
      "Epoch 4/10\n",
      "529/529 [==============================] - 3s 5ms/step - loss: 0.1170 - val_loss: 0.0990\n",
      "Epoch 5/10\n",
      "529/529 [==============================] - 3s 5ms/step - loss: 0.1168 - val_loss: 0.1010\n",
      "Epoch 6/10\n",
      "529/529 [==============================] - 3s 5ms/step - loss: 0.1168 - val_loss: 0.1038\n",
      "Epoch 7/10\n",
      "529/529 [==============================] - 3s 5ms/step - loss: 0.1169 - val_loss: 0.0983\n",
      "Epoch 8/10\n",
      "529/529 [==============================] - 3s 6ms/step - loss: 0.1165 - val_loss: 0.0989\n",
      "Epoch 9/10\n",
      "529/529 [==============================] - 3s 5ms/step - loss: 0.1166 - val_loss: 0.1001\n",
      "Epoch 10/10\n",
      "529/529 [==============================] - 3s 5ms/step - loss: 0.1158 - val_loss: 0.1028\n"
     ]
    }
   ],
   "source": [
    "# Build the model for z with the optimal hyperparameters\n",
    "model_z = tuner_z.hypermodel.build(best_hps_z)\n",
    "model_z.compile(loss = 'mae', optimizer=tf.keras.optimizers.Adam(learning_rate=best_hps_z.get('learning_rate')))\n",
    "history_z = model_z.fit(x_train_z, y_train_z, epochs=10, validation_data=(x_val_z,y_val_z))"
   ]
  },
  {
   "cell_type": "markdown",
   "metadata": {
    "id": "WWxNqsVPxs5U"
   },
   "source": [
    "Per ogni modello creato sulla base dei miglior hyperparameters verrà considerato come numero di epoche massime sulla quale effettuare nuovamente il fit il numero di epoche massimo dove si ha la minor \"loss\""
   ]
  },
  {
   "cell_type": "code",
   "execution_count": 89,
   "metadata": {
    "colab": {
     "base_uri": "https://localhost:8080/"
    },
    "id": "DSngDNhJJVu8",
    "outputId": "44e60278-2f7b-4eae-9c60-0e3755cc9603"
   },
   "outputs": [
    {
     "name": "stdout",
     "output_type": "stream",
     "text": [
      "Best epoch: 10\n"
     ]
    }
   ],
   "source": [
    "loss_per_epoch_x = history_x.history['loss']\n",
    "best_epoch_x = loss_per_epoch_x.index(min(loss_per_epoch_x)) + 1\n",
    "print('Best epoch: %d' % (best_epoch_x,))"
   ]
  },
  {
   "cell_type": "code",
   "execution_count": 90,
   "metadata": {
    "colab": {
     "base_uri": "https://localhost:8080/"
    },
    "id": "IcFRRWCSiykV",
    "outputId": "c2fa04d2-de46-4a58-abdb-1aa4511303ff"
   },
   "outputs": [
    {
     "name": "stdout",
     "output_type": "stream",
     "text": [
      "Best epoch: 10\n"
     ]
    }
   ],
   "source": [
    "loss_per_epoch_y = history_y.history['loss']\n",
    "best_epoch_y = loss_per_epoch_y.index(min(loss_per_epoch_y)) + 1\n",
    "print('Best epoch: %d' % (best_epoch_y,))"
   ]
  },
  {
   "cell_type": "code",
   "execution_count": 91,
   "metadata": {
    "colab": {
     "base_uri": "https://localhost:8080/"
    },
    "id": "FQJ0uo-Ii0dX",
    "outputId": "b521b3fe-2bb5-4ec1-d6e3-2087b5f82dec"
   },
   "outputs": [
    {
     "name": "stdout",
     "output_type": "stream",
     "text": [
      "Best epoch: 10\n"
     ]
    }
   ],
   "source": [
    "loss_per_epoch_z = history_z.history['loss']\n",
    "best_epoch_z = loss_per_epoch_z.index(min(loss_per_epoch_z)) + 1\n",
    "print('Best epoch: %d' % (best_epoch_z,))"
   ]
  },
  {
   "cell_type": "code",
   "execution_count": 92,
   "metadata": {
    "colab": {
     "base_uri": "https://localhost:8080/"
    },
    "id": "Kv6IQhXqJhHy",
    "outputId": "db3917f5-62c4-4b9a-9c7d-f228902c7ce3"
   },
   "outputs": [
    {
     "name": "stdout",
     "output_type": "stream",
     "text": [
      "Epoch 1/10\n",
      "529/529 [==============================] - 4s 6ms/step - loss: 0.1654 - val_loss: 0.1150\n",
      "Epoch 2/10\n",
      "529/529 [==============================] - 3s 5ms/step - loss: 0.1219 - val_loss: 0.0998\n",
      "Epoch 3/10\n",
      "529/529 [==============================] - 3s 5ms/step - loss: 0.1185 - val_loss: 0.0996\n",
      "Epoch 4/10\n",
      "529/529 [==============================] - 3s 5ms/step - loss: 0.1166 - val_loss: 0.1018\n",
      "Epoch 5/10\n",
      "529/529 [==============================] - 3s 5ms/step - loss: 0.1166 - val_loss: 0.1006\n",
      "Epoch 6/10\n",
      "529/529 [==============================] - 3s 5ms/step - loss: 0.1164 - val_loss: 0.0992\n",
      "Epoch 7/10\n",
      "529/529 [==============================] - 3s 5ms/step - loss: 0.1164 - val_loss: 0.0981\n",
      "Epoch 8/10\n",
      "529/529 [==============================] - 3s 5ms/step - loss: 0.1159 - val_loss: 0.0986\n",
      "Epoch 9/10\n",
      "529/529 [==============================] - 3s 5ms/step - loss: 0.1163 - val_loss: 0.0989\n",
      "Epoch 10/10\n",
      "529/529 [==============================] - 3s 5ms/step - loss: 0.1160 - val_loss: 0.0978\n"
     ]
    }
   ],
   "source": [
    "hypermodel_x = tuner_x.hypermodel.build(best_hps_x)\n",
    "hypermodel_x.compile(loss = 'mae', optimizer=tf.keras.optimizers.Adam(learning_rate=best_hps_x.get('learning_rate')))\n",
    "# Retrain the model\n",
    "history_x = hypermodel_x.fit(x_train_x, y_train_x, epochs=best_epoch_x, validation_data=(x_val_x,y_val_x))"
   ]
  },
  {
   "cell_type": "code",
   "execution_count": 93,
   "metadata": {
    "colab": {
     "base_uri": "https://localhost:8080/"
    },
    "id": "-BKcSYuhjKAR",
    "outputId": "8cdf8436-a0b9-4e52-e244-b331d35dff69"
   },
   "outputs": [
    {
     "name": "stdout",
     "output_type": "stream",
     "text": [
      "Epoch 1/10\n",
      "529/529 [==============================] - 5s 6ms/step - loss: 0.1345 - val_loss: 0.0903\n",
      "Epoch 2/10\n",
      "529/529 [==============================] - 3s 6ms/step - loss: 0.0978 - val_loss: 0.0798\n",
      "Epoch 3/10\n",
      "529/529 [==============================] - 3s 6ms/step - loss: 0.0942 - val_loss: 0.0807\n",
      "Epoch 4/10\n",
      "529/529 [==============================] - 3s 5ms/step - loss: 0.0932 - val_loss: 0.0782\n",
      "Epoch 5/10\n",
      "529/529 [==============================] - 3s 6ms/step - loss: 0.0931 - val_loss: 0.0793\n",
      "Epoch 6/10\n",
      "529/529 [==============================] - 3s 6ms/step - loss: 0.0929 - val_loss: 0.0806\n",
      "Epoch 7/10\n",
      "529/529 [==============================] - 3s 6ms/step - loss: 0.0929 - val_loss: 0.0924\n",
      "Epoch 8/10\n",
      "529/529 [==============================] - 3s 6ms/step - loss: 0.0933 - val_loss: 0.0787\n",
      "Epoch 9/10\n",
      "529/529 [==============================] - 3s 5ms/step - loss: 0.0927 - val_loss: 0.0778\n",
      "Epoch 10/10\n",
      "529/529 [==============================] - 3s 5ms/step - loss: 0.0925 - val_loss: 0.0782\n"
     ]
    }
   ],
   "source": [
    "hypermodel_y = tuner_y.hypermodel.build(best_hps_y)\n",
    "hypermodel_y.compile(loss = 'mae', optimizer=tf.keras.optimizers.Adam(learning_rate=best_hps_y.get('learning_rate')))\n",
    "\n",
    "# Retrain the model\n",
    "history_y = hypermodel_y.fit(x_train_y, y_train_y, epochs=best_epoch_y, validation_data=(x_val_y,y_val_y))"
   ]
  },
  {
   "cell_type": "code",
   "execution_count": 94,
   "metadata": {
    "colab": {
     "base_uri": "https://localhost:8080/"
    },
    "id": "5rnWvbzqjQhE",
    "outputId": "458f0206-9eb1-4228-cf2e-852aff7b1688"
   },
   "outputs": [
    {
     "name": "stdout",
     "output_type": "stream",
     "text": [
      "Epoch 1/10\n",
      "529/529 [==============================] - 5s 6ms/step - loss: 0.1673 - val_loss: 0.1094\n",
      "Epoch 2/10\n",
      "529/529 [==============================] - 3s 6ms/step - loss: 0.1197 - val_loss: 0.0992\n",
      "Epoch 3/10\n",
      "529/529 [==============================] - 4s 7ms/step - loss: 0.1176 - val_loss: 0.1053\n",
      "Epoch 4/10\n",
      "529/529 [==============================] - 3s 6ms/step - loss: 0.1177 - val_loss: 0.1001\n",
      "Epoch 5/10\n",
      "529/529 [==============================] - 3s 6ms/step - loss: 0.1166 - val_loss: 0.0999\n",
      "Epoch 6/10\n",
      "529/529 [==============================] - 3s 5ms/step - loss: 0.1168 - val_loss: 0.1050\n",
      "Epoch 7/10\n",
      "529/529 [==============================] - 3s 5ms/step - loss: 0.1162 - val_loss: 0.1011\n",
      "Epoch 8/10\n",
      "529/529 [==============================] - 3s 5ms/step - loss: 0.1167 - val_loss: 0.1014\n",
      "Epoch 9/10\n",
      "529/529 [==============================] - 3s 6ms/step - loss: 0.1165 - val_loss: 0.0984\n",
      "Epoch 10/10\n",
      "529/529 [==============================] - 3s 6ms/step - loss: 0.1162 - val_loss: 0.1013\n"
     ]
    }
   ],
   "source": [
    "hypermodel_z = tuner_z.hypermodel.build(best_hps_z)\n",
    "hypermodel_z.compile(loss = 'mae', optimizer=tf.keras.optimizers.Adam(learning_rate=best_hps_z.get('learning_rate')))\n",
    "\n",
    "# Retrain the model\n",
    "history_z = hypermodel_z.fit(x_train_z, y_train_z, epochs=best_epoch_z, validation_data=(x_val_z,y_val_z))"
   ]
  },
  {
   "cell_type": "code",
   "execution_count": 95,
   "metadata": {
    "id": "228RHywhzRg4"
   },
   "outputs": [],
   "source": [
    "seq_len_x = x_train_x.shape[1]\n",
    "num_feat_x = x_train_x.shape[2]"
   ]
  },
  {
   "cell_type": "code",
   "execution_count": 96,
   "metadata": {
    "colab": {
     "base_uri": "https://localhost:8080/"
    },
    "id": "u3Goy7qdJfH6",
    "outputId": "eeb33adb-b142-4284-ee69-f825b44b7bd6"
   },
   "outputs": [
    {
     "data": {
      "text/plain": [
       "{'loss': [0.16537579894065857,\n",
       "  0.12193544209003448,\n",
       "  0.11852554231882095,\n",
       "  0.11657393723726273,\n",
       "  0.11663922667503357,\n",
       "  0.11641491204500198,\n",
       "  0.11638100445270538,\n",
       "  0.11591270565986633,\n",
       "  0.11625978350639343,\n",
       "  0.1160493716597557],\n",
       " 'val_loss': [0.11504262685775757,\n",
       "  0.09979903697967529,\n",
       "  0.09958292543888092,\n",
       "  0.10175254940986633,\n",
       "  0.1006084680557251,\n",
       "  0.09916439652442932,\n",
       "  0.09806562960147858,\n",
       "  0.09859137237071991,\n",
       "  0.09887727349996567,\n",
       "  0.09776011854410172]}"
      ]
     },
     "execution_count": 96,
     "metadata": {},
     "output_type": "execute_result"
    }
   ],
   "source": [
    "history_x.history"
   ]
  },
  {
   "cell_type": "code",
   "execution_count": 97,
   "metadata": {
    "colab": {
     "base_uri": "https://localhost:8080/",
     "height": 281
    },
    "id": "Gs0O256GzjOE",
    "outputId": "f9116b6d-598a-44e2-d341-61e3dda6675b"
   },
   "outputs": [
    {
     "data": {
      "image/png": "[encoded data removed]",
      "text/plain": [
       "<Figure size 432x288 with 1 Axes>"
      ]
     },
     "metadata": {
      "needs_background": "light"
     },
     "output_type": "display_data"
    }
   ],
   "source": [
    "# Plotting results\n",
    "\n",
    "import matplotlib.pyplot as plt\n",
    "\n",
    "loss_x = history_x.history['loss'] \n",
    "epochs_x = range(len(loss_x))\n",
    "loss_y = history_y.history['loss'] \n",
    "epochs_y = range(len(loss_y))\n",
    "loss_z = history_z.history['loss'] \n",
    "epochs_z = range(len(loss_z)) \n",
    "\n",
    "plt.plot(epochs_x, loss_x,  label='Training loss x')\n",
    "plt.plot(epochs_y, loss_y,  label='Training loss y')\n",
    "plt.plot(epochs_z, loss_z,  label='Training loss z')\n",
    "plt.title('Training loss')\n",
    "plt.legend()\n",
    "plt.show()"
   ]
  },
  {
   "cell_type": "markdown",
   "metadata": {
    "id": "OyMGSV_sxs5a"
   },
   "source": [
    "## *Prediction*\n",
    "\n",
    "Predizione basata sul modello costruito con i miglior hyperparameters e trainato sul numero di epoche ottimali considerate sopra. La predizione è effettuata sulle sequenze di test set normalizzate"
   ]
  },
  {
   "cell_type": "code",
   "execution_count": 98,
   "metadata": {
    "id": "c7LrB1J6vF7p"
   },
   "outputs": [],
   "source": [
    "prediction_x = hypermodel_x.predict((x_test_x - mean['x']) / std['x'])\n",
    "prediction_x = (prediction_x * std['x']) + mean['x']"
   ]
  },
  {
   "cell_type": "code",
   "execution_count": 99,
   "metadata": {
    "id": "41nXu5m652uw"
   },
   "outputs": [],
   "source": [
    "prediction_y = hypermodel_y.predict((x_test_y - mean['y']) / std['y'])\n",
    "prediction_y = (prediction_y * std['y']) + mean['y']"
   ]
  },
  {
   "cell_type": "code",
   "execution_count": 100,
   "metadata": {
    "id": "3grERxbk53UD"
   },
   "outputs": [],
   "source": [
    "prediction_z = hypermodel_z.predict((x_test_z - mean['z']) / std['z'])\n",
    "prediction_z = (prediction_z * std['z']) + mean['z']"
   ]
  },
  {
   "cell_type": "markdown",
   "metadata": {
    "id": "EEtgiEPWxs5c"
   },
   "source": [
    "#### *Metrics*\n",
    "\n",
    "Risultati ottenuti dalla predizione su ogni feature del dataset"
   ]
  },
  {
   "cell_type": "code",
   "execution_count": 101,
   "metadata": {
    "colab": {
     "base_uri": "https://localhost:8080/"
    },
    "id": "9SkFmh6c5Z29",
    "outputId": "14e9185d-907a-48ae-f3d9-8aea2326eb8a"
   },
   "outputs": [
    {
     "name": "stdout",
     "output_type": "stream",
     "text": [
      "MAE X: 73.58875112590657\n",
      "MAE Y: 80.48110151229177\n",
      "MAE Z: 74.20807178783062\n"
     ]
    }
   ],
   "source": [
    "#  x = 81.06; y = 85.26; z = 79.94\n",
    "from sklearn.metrics import mean_absolute_error\n",
    "\n",
    "mae_x = mean_absolute_error(y_test_x, prediction_x)\n",
    "print('MAE X: ' + str(mae_x))\n",
    "\n",
    "mae_y = mean_absolute_error(y_test_y, prediction_y)\n",
    "print('MAE Y: ' + str(mae_y))\n",
    "\n",
    "mae_z = mean_absolute_error(y_test_z, prediction_z)\n",
    "print('MAE Z: ' + str(mae_z))"
   ]
  },
  {
   "cell_type": "code",
   "execution_count": 102,
   "metadata": {
    "colab": {
     "base_uri": "https://localhost:8080/"
    },
    "id": "PZm7ED5eZLbv",
    "outputId": "2a93762c-acbe-4382-ff1e-8d2899bdf512"
   },
   "outputs": [
    {
     "name": "stdout",
     "output_type": "stream",
     "text": [
      "x_rate: %f 0.9078306331841423\n",
      "y_rate: %f 0.9439491146175436\n",
      "z_rate: %f 0.9280649298127892\n"
     ]
    }
   ],
   "source": [
    "x_rate = mae_x/81.06\n",
    "y_rate = mae_y/85.26\n",
    "z_rate = mae_z/79.96\n",
    "\n",
    "print(\"x_rate: %f\",x_rate)\n",
    "print(\"y_rate: %f\",y_rate)\n",
    "print(\"z_rate: %f\",z_rate)"
   ]
  },
  {
   "cell_type": "markdown",
   "metadata": {
    "id": "GSiVe5Q_xs5e"
   },
   "source": [
    "### **Task 1.2**\n",
    "## *Evaluation* \n",
    "\n",
    "Evaluation basata sulla feature *Y*. Per ogni combinazione verranno affrontate le seguenti fasi: search sui best hyperparameters, ricostruzione del modello basato sui best hyperparameters, prediction e calcolo del mae"
   ]
  },
  {
   "cell_type": "code",
   "execution_count": 103,
   "metadata": {
    "colab": {
     "base_uri": "https://localhost:8080/"
    },
    "id": "3bAi9F8YURel",
    "outputId": "5421b2ec-4d2d-4f59-ea99-ab4c7d2e7f67"
   },
   "outputs": [
    {
     "name": "stdout",
     "output_type": "stream",
     "text": [
      "Trial 30 Complete [00h 00m 35s]\n",
      "loss: 0.11006272584199905\n",
      "\n",
      "Best loss So Far: 0.09169765561819077\n",
      "Total elapsed time: 00h 08m 52s\n",
      "INFO:tensorflow:Oracle triggered exit\n",
      "Epoch 1/10\n",
      "353/353 [==============================] - 5s 9ms/step - loss: 0.1531 - val_loss: 0.1214\n",
      "Epoch 2/10\n",
      "353/353 [==============================] - 3s 7ms/step - loss: 0.1052 - val_loss: 0.1089\n",
      "Epoch 3/10\n",
      "353/353 [==============================] - 2s 7ms/step - loss: 0.0969 - val_loss: 0.0858\n",
      "Epoch 4/10\n",
      "353/353 [==============================] - 3s 7ms/step - loss: 0.0942 - val_loss: 0.0809\n",
      "Epoch 5/10\n",
      "353/353 [==============================] - 3s 7ms/step - loss: 0.0948 - val_loss: 0.0788\n",
      "Epoch 6/10\n",
      "353/353 [==============================] - 2s 7ms/step - loss: 0.0928 - val_loss: 0.0783\n",
      "Epoch 7/10\n",
      "353/353 [==============================] - 2s 7ms/step - loss: 0.0925 - val_loss: 0.0811\n",
      "Epoch 8/10\n",
      "353/353 [==============================] - 3s 9ms/step - loss: 0.0926 - val_loss: 0.0822\n",
      "Epoch 9/10\n",
      "353/353 [==============================] - 3s 8ms/step - loss: 0.0930 - val_loss: 0.0829\n",
      "Epoch 10/10\n",
      "353/353 [==============================] - 2s 7ms/step - loss: 0.0925 - val_loss: 0.0851\n",
      "Epoch 1/10\n",
      "353/353 [==============================] - 4s 8ms/step - loss: 0.1510 - val_loss: 0.1165\n",
      "Epoch 2/10\n",
      "353/353 [==============================] - 2s 7ms/step - loss: 0.1060 - val_loss: 0.0886\n",
      "Epoch 3/10\n",
      "353/353 [==============================] - 2s 7ms/step - loss: 0.0970 - val_loss: 0.0856\n",
      "Epoch 4/10\n",
      "353/353 [==============================] - 2s 7ms/step - loss: 0.0944 - val_loss: 0.0846\n",
      "Epoch 5/10\n",
      "353/353 [==============================] - 2s 7ms/step - loss: 0.0940 - val_loss: 0.0863\n",
      "Epoch 6/10\n",
      "353/353 [==============================] - 3s 8ms/step - loss: 0.0930 - val_loss: 0.0810\n",
      "Epoch 7/10\n",
      "353/353 [==============================] - 2s 7ms/step - loss: 0.0924 - val_loss: 0.0828\n",
      "Epoch 8/10\n",
      "353/353 [==============================] - 2s 7ms/step - loss: 0.0925 - val_loss: 0.0815\n",
      "Epoch 9/10\n",
      "353/353 [==============================] - 3s 7ms/step - loss: 0.0924 - val_loss: 0.0814\n",
      "Epoch 10/10\n",
      "353/353 [==============================] - 2s 7ms/step - loss: 0.0925 - val_loss: 0.0842\n",
      "MAE Y: 83.84581269412895\n"
     ]
    }
   ],
   "source": [
    "configuration = []\n",
    "forecast_y = []\n",
    "\n",
    "for lookback in [12,30,60]:\n",
    "    for step in [3,6,9]:\n",
    "\n",
    "        print(\"Trying \" + str(lookback) + \" every \" + str(step) + \" steps\")\n",
    "\n",
    "        x_train_y, y_train_y = data_windowing(train_data['y'], lookback, step)\n",
    "        x_val_y, y_val_y = data_windowing(val_data['y'], lookback, step)\n",
    "        x_test_y, y_test_y = data_windowing(test_data['y'], lookback, step)\n",
    "\n",
    "        tuner_y = kt.Hyperband(build_model,\n",
    "                         objective='loss',\n",
    "                         seed=my_seed,\n",
    "                         max_epochs=15,\n",
    "                         factor=3,\n",
    "                         overwrite=True,\n",
    "                         directory='task_1_2',\n",
    "                         project_name='seq_'+str(lookback)+'_step_'+str(step))\n",
    "\n",
    "        tuner_y.search(x_train_y, y_train_y, epochs=10, validation_data=(x_val_y,y_val_y), callbacks=[early_stop])\n",
    "\n",
    "        best_hps_y = tuner_y.get_best_hyperparameters(num_trials=1)[0]\n",
    "\n",
    "        model_y = tuner_y.hypermodel.build(best_hps_y)\n",
    "        model_y.compile(loss = 'mae', optimizer=tf.keras.optimizers.Adam(learning_rate=best_hps_y.get('learning_rate')))\n",
    "        history_y = model_y.fit(x_train_y, y_train_y, epochs=10, validation_data=(x_val_y,y_val_y))\n",
    "\n",
    "        loss_per_epoch_y = history_y.history['loss']\n",
    "        best_epoch_y = loss_per_epoch_y.index(min(loss_per_epoch_y)) + 1\n",
    "\n",
    "        hypermodel_y = tuner_y.hypermodel.build(best_hps_y)\n",
    "        hypermodel_y.compile(loss = 'mae', optimizer=tf.keras.optimizers.Adam(learning_rate=best_hps_y.get('learning_rate')))\n",
    "        hypermodel_y.fit(x_train_y, y_train_y, epochs=best_epoch_y, validation_data=(x_val_y,y_val_y))\n",
    "\n",
    "        prediction_y = hypermodel_y.predict((x_test_y - mean['y']) / std['y'])\n",
    "        prediction_y = (prediction_y * std['y']) + mean['y']\n",
    "\n",
    "        mae_y = mean_absolute_error(y_test_y, prediction_y)\n",
    "        print('MAE Y: ' + str(mae_y))\n",
    "\n",
    "        configuration.append(str(lookback) + \"-\" + str(step))\n",
    "        forecast_y.append(mae_y)"
   ]
  },
  {
   "cell_type": "code",
   "execution_count": 104,
   "metadata": {
    "colab": {
     "base_uri": "https://localhost:8080/"
    },
    "id": "XHQFrcggxs5e",
    "outputId": "ecaf2c81-8f7e-43b3-f32f-ae32b1fc117e"
   },
   "outputs": [
    {
     "data": {
      "text/plain": [
       "80.29701115879003"
      ]
     },
     "execution_count": 104,
     "metadata": {},
     "output_type": "execute_result"
    }
   ],
   "source": [
    "min_mae = min(forecast_y)\n",
    "min_mae"
   ]
  },
  {
   "cell_type": "code",
   "execution_count": 105,
   "metadata": {
    "colab": {
     "base_uri": "https://localhost:8080/",
     "height": 281
    },
    "id": "VQk2vf2t2Dxo",
    "outputId": "05638b40-c654-4108-936b-e0ad1cd2b019"
   },
   "outputs": [
    {
     "data": {
      "image/png": "[encoded data removed]",
      "text/plain": [
       "<Figure size 432x288 with 1 Axes>"
      ]
     },
     "metadata": {
      "needs_background": "light"
     },
     "output_type": "display_data"
    }
   ],
   "source": [
    "# Plotting results\n",
    "\n",
    "import matplotlib.pyplot as plt\n",
    "\n",
    "plt.bar(configuration, forecast_y, label='Forecast y', color='red')\n",
    "plt.axhline(85.26, color='black')\n",
    "plt.axhline(86.26, color='white')\n",
    "plt.title('Best values')\n",
    "plt.legend()\n",
    "plt.show()"
   ]
  }
 ],
 "metadata": {
  "accelerator": "GPU",
  "colab": {
   "collapsed_sections": [],
   "name": "Next Value Prediction_F.ipynb",
   "provenance": []
  },
  "kernelspec": {
   "display_name": "Python 3",
   "language": "python",
   "name": "python3"
  },
  "language_info": {
   "codemirror_mode": {
    "name": "ipython",
    "version": 3
   },
   "file_extension": ".py",
   "mimetype": "text/x-python",
   "name": "python",
   "nbconvert_exporter": "python",
   "pygments_lexer": "ipython3",
   "version": "3.8.5"
  }
 },
 "nbformat": 4,
 "nbformat_minor": 1
}
