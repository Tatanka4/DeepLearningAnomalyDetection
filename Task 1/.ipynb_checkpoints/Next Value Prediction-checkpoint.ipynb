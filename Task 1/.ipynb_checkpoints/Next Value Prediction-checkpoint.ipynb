{
 "cells": [
  {
   "cell_type": "markdown",
   "metadata": {},
   "source": [
    "# Deep Learning - Next Value Prediction\n",
    "### **Task 1**\n",
    "\n",
    "| Componente | Matricola |\n",
    "| --- | --- |\n",
    "| Gianfranco Sapia | 223954 |\n",
    "| Andrea De Seta | 227755 |"
   ]
  },
  {
   "cell_type": "markdown",
   "metadata": {},
   "source": [
    "## **Data Understanding**"
   ]
  },
  {
   "cell_type": "code",
   "execution_count": 1,
   "metadata": {
    "executionInfo": {
     "elapsed": 3,
     "status": "ok",
     "timestamp": 1655288552844,
     "user": {
      "displayName": "Sfrizz _",
      "userId": "17085478953775635658"
     },
     "user_tz": -120
    },
    "id": "JAdeNJjzkU0j"
   },
   "outputs": [],
   "source": [
    "import os\n",
    "import numpy as np"
   ]
  },
  {
   "cell_type": "markdown",
   "metadata": {},
   "source": [
    "#### **Load dataset**"
   ]
  },
  {
   "cell_type": "code",
   "execution_count": 2,
   "metadata": {
    "colab": {
     "base_uri": "https://localhost:8080/"
    },
    "executionInfo": {
     "elapsed": 19238,
     "status": "ok",
     "timestamp": 1655288574173,
     "user": {
      "displayName": "Sfrizz _",
      "userId": "17085478953775635658"
     },
     "user_tz": -120
    },
    "id": "XKUgZv03jkrl",
    "outputId": "ed621a0e-1cf1-411c-e1ff-5a89188754f3"
   },
   "outputs": [
    {
     "data": {
      "text/plain": [
       "\"from google.colab import drive\\ndrive.mount('/content/drive')\""
      ]
     },
     "execution_count": 2,
     "metadata": {},
     "output_type": "execute_result"
    }
   ],
   "source": [
    "\"\"\"from google.colab import drive\n",
    "drive.mount('/content/drive')\"\"\""
   ]
  },
  {
   "cell_type": "code",
   "execution_count": 3,
   "metadata": {
    "executionInfo": {
     "elapsed": 284,
     "status": "ok",
     "timestamp": 1655288575958,
     "user": {
      "displayName": "Sfrizz _",
      "userId": "17085478953775635658"
     },
     "user_tz": -120
    },
    "id": "eZr6--ltlQ-Q"
   },
   "outputs": [],
   "source": [
    "#train_path = '/content/drive/MyDrive/Deep Learning Project/Task 1/train.csv' #valid for colab\n",
    "#test_path = '/content/drive/MyDrive/Deep Learning Project/Task 1/test.csv' ##valid for colab\n",
    "\n",
    "train_path = 'train.csv'\n",
    "test_path = 'test.csv'"
   ]
  },
  {
   "cell_type": "code",
   "execution_count": 4,
   "metadata": {
    "colab": {
     "base_uri": "https://localhost:8080/",
     "height": 424
    },
    "executionInfo": {
     "elapsed": 1641,
     "status": "ok",
     "timestamp": 1655288579039,
     "user": {
      "displayName": "Sfrizz _",
      "userId": "17085478953775635658"
     },
     "user_tz": -120
    },
    "id": "3bIrOUeZlvp7",
    "outputId": "c1085d5e-0dcb-42a8-ec2c-06fefcb083db"
   },
   "outputs": [
    {
     "data": {
      "text/html": [
       "<div>\n",
       "<style scoped>\n",
       "    .dataframe tbody tr th:only-of-type {\n",
       "        vertical-align: middle;\n",
       "    }\n",
       "\n",
       "    .dataframe tbody tr th {\n",
       "        vertical-align: top;\n",
       "    }\n",
       "\n",
       "    .dataframe thead th {\n",
       "        text-align: right;\n",
       "    }\n",
       "</style>\n",
       "<table border=\"1\" class=\"dataframe\">\n",
       "  <thead>\n",
       "    <tr style=\"text-align: right;\">\n",
       "      <th></th>\n",
       "      <th>x</th>\n",
       "      <th>y</th>\n",
       "      <th>z</th>\n",
       "    </tr>\n",
       "  </thead>\n",
       "  <tbody>\n",
       "    <tr>\n",
       "      <th>0</th>\n",
       "      <td>-24</td>\n",
       "      <td>749</td>\n",
       "      <td>-626</td>\n",
       "    </tr>\n",
       "    <tr>\n",
       "      <th>1</th>\n",
       "      <td>-206</td>\n",
       "      <td>930</td>\n",
       "      <td>-63</td>\n",
       "    </tr>\n",
       "    <tr>\n",
       "      <th>2</th>\n",
       "      <td>-139</td>\n",
       "      <td>763</td>\n",
       "      <td>-577</td>\n",
       "    </tr>\n",
       "    <tr>\n",
       "      <th>3</th>\n",
       "      <td>-503</td>\n",
       "      <td>441</td>\n",
       "      <td>-557</td>\n",
       "    </tr>\n",
       "    <tr>\n",
       "      <th>4</th>\n",
       "      <td>-278</td>\n",
       "      <td>705</td>\n",
       "      <td>-396</td>\n",
       "    </tr>\n",
       "    <tr>\n",
       "      <th>...</th>\n",
       "      <td>...</td>\n",
       "      <td>...</td>\n",
       "      <td>...</td>\n",
       "    </tr>\n",
       "    <tr>\n",
       "      <th>144906</th>\n",
       "      <td>559</td>\n",
       "      <td>-803</td>\n",
       "      <td>-294</td>\n",
       "    </tr>\n",
       "    <tr>\n",
       "      <th>144907</th>\n",
       "      <td>559</td>\n",
       "      <td>-803</td>\n",
       "      <td>-294</td>\n",
       "    </tr>\n",
       "    <tr>\n",
       "      <th>144908</th>\n",
       "      <td>559</td>\n",
       "      <td>-802</td>\n",
       "      <td>-295</td>\n",
       "    </tr>\n",
       "    <tr>\n",
       "      <th>144909</th>\n",
       "      <td>559</td>\n",
       "      <td>-803</td>\n",
       "      <td>-294</td>\n",
       "    </tr>\n",
       "    <tr>\n",
       "      <th>144910</th>\n",
       "      <td>559</td>\n",
       "      <td>-802</td>\n",
       "      <td>-294</td>\n",
       "    </tr>\n",
       "  </tbody>\n",
       "</table>\n",
       "<p>144911 rows × 3 columns</p>\n",
       "</div>"
      ],
      "text/plain": [
       "          x    y    z\n",
       "0       -24  749 -626\n",
       "1      -206  930  -63\n",
       "2      -139  763 -577\n",
       "3      -503  441 -557\n",
       "4      -278  705 -396\n",
       "...     ...  ...  ...\n",
       "144906  559 -803 -294\n",
       "144907  559 -803 -294\n",
       "144908  559 -802 -295\n",
       "144909  559 -803 -294\n",
       "144910  559 -802 -294\n",
       "\n",
       "[144911 rows x 3 columns]"
      ]
     },
     "execution_count": 4,
     "metadata": {},
     "output_type": "execute_result"
    }
   ],
   "source": [
    "import pandas as pd\n",
    "\n",
    "train_data_loaded = pd.read_csv(train_path)\n",
    "test_data = pd.read_csv(test_path)\n",
    "train_data_loaded"
   ]
  },
  {
   "cell_type": "markdown",
   "metadata": {},
   "source": [
    "##### **Data dimension**"
   ]
  },
  {
   "cell_type": "code",
   "execution_count": 5,
   "metadata": {
    "colab": {
     "base_uri": "https://localhost:8080/"
    },
    "executionInfo": {
     "elapsed": 286,
     "status": "ok",
     "timestamp": 1655288581544,
     "user": {
      "displayName": "Sfrizz _",
      "userId": "17085478953775635658"
     },
     "user_tz": -120
    },
    "id": "x-jtKHITo2F5",
    "outputId": "be6c4359-6d0d-4a8d-ddc7-ac449fb62404"
   },
   "outputs": [
    {
     "data": {
      "text/plain": [
       "434733"
      ]
     },
     "execution_count": 5,
     "metadata": {},
     "output_type": "execute_result"
    }
   ],
   "source": [
    "train_data_loaded.size"
   ]
  },
  {
   "cell_type": "code",
   "execution_count": 6,
   "metadata": {
    "colab": {
     "base_uri": "https://localhost:8080/"
    },
    "executionInfo": {
     "elapsed": 336,
     "status": "ok",
     "timestamp": 1655288583582,
     "user": {
      "displayName": "Sfrizz _",
      "userId": "17085478953775635658"
     },
     "user_tz": -120
    },
    "id": "e1ehJ4Qcmir9",
    "outputId": "c2d528b2-f57d-4f28-d24a-2f604edcea39"
   },
   "outputs": [
    {
     "data": {
      "text/plain": [
       "(144911, 3)"
      ]
     },
     "execution_count": 6,
     "metadata": {},
     "output_type": "execute_result"
    }
   ],
   "source": [
    "train_data_loaded.shape"
   ]
  },
  {
   "cell_type": "markdown",
   "metadata": {},
   "source": [
    "##### **Get attribute type and general statistics**"
   ]
  },
  {
   "cell_type": "code",
   "execution_count": 7,
   "metadata": {
    "colab": {
     "base_uri": "https://localhost:8080/"
    },
    "executionInfo": {
     "elapsed": 403,
     "status": "ok",
     "timestamp": 1655288585429,
     "user": {
      "displayName": "Sfrizz _",
      "userId": "17085478953775635658"
     },
     "user_tz": -120
    },
    "id": "3qMT1MuMnHGn",
    "outputId": "805ee5fe-2c46-42ee-f3b1-992530f3b38f"
   },
   "outputs": [
    {
     "name": "stdout",
     "output_type": "stream",
     "text": [
      "<class 'pandas.core.frame.DataFrame'>\n",
      "RangeIndex: 144911 entries, 0 to 144910\n",
      "Data columns (total 3 columns):\n",
      " #   Column  Non-Null Count   Dtype\n",
      "---  ------  --------------   -----\n",
      " 0   x       144911 non-null  int64\n",
      " 1   y       144911 non-null  int64\n",
      " 2   z       144911 non-null  int64\n",
      "dtypes: int64(3)\n",
      "memory usage: 3.3 MB\n"
     ]
    }
   ],
   "source": [
    "train_data_loaded.info()"
   ]
  },
  {
   "cell_type": "code",
   "execution_count": 8,
   "metadata": {
    "colab": {
     "base_uri": "https://localhost:8080/",
     "height": 300
    },
    "executionInfo": {
     "elapsed": 260,
     "status": "ok",
     "timestamp": 1655288586953,
     "user": {
      "displayName": "Sfrizz _",
      "userId": "17085478953775635658"
     },
     "user_tz": -120
    },
    "id": "W5mPRwj0pD5G",
    "outputId": "d0e2d59f-ec94-40fa-8188-4841ef8f34cf"
   },
   "outputs": [
    {
     "data": {
      "text/html": [
       "<div>\n",
       "<style scoped>\n",
       "    .dataframe tbody tr th:only-of-type {\n",
       "        vertical-align: middle;\n",
       "    }\n",
       "\n",
       "    .dataframe tbody tr th {\n",
       "        vertical-align: top;\n",
       "    }\n",
       "\n",
       "    .dataframe thead th {\n",
       "        text-align: right;\n",
       "    }\n",
       "</style>\n",
       "<table border=\"1\" class=\"dataframe\">\n",
       "  <thead>\n",
       "    <tr style=\"text-align: right;\">\n",
       "      <th></th>\n",
       "      <th>x</th>\n",
       "      <th>y</th>\n",
       "      <th>z</th>\n",
       "    </tr>\n",
       "  </thead>\n",
       "  <tbody>\n",
       "    <tr>\n",
       "      <th>count</th>\n",
       "      <td>144911.000000</td>\n",
       "      <td>144911.000000</td>\n",
       "      <td>144911.000000</td>\n",
       "    </tr>\n",
       "    <tr>\n",
       "      <th>mean</th>\n",
       "      <td>132.732967</td>\n",
       "      <td>-34.800146</td>\n",
       "      <td>-307.588768</td>\n",
       "    </tr>\n",
       "    <tr>\n",
       "      <th>std</th>\n",
       "      <td>491.697810</td>\n",
       "      <td>594.977813</td>\n",
       "      <td>538.335654</td>\n",
       "    </tr>\n",
       "    <tr>\n",
       "      <th>min</th>\n",
       "      <td>-1239.000000</td>\n",
       "      <td>-1019.000000</td>\n",
       "      <td>-1001.000000</td>\n",
       "    </tr>\n",
       "    <tr>\n",
       "      <th>25%</th>\n",
       "      <td>-291.000000</td>\n",
       "      <td>-646.000000</td>\n",
       "      <td>-794.000000</td>\n",
       "    </tr>\n",
       "    <tr>\n",
       "      <th>50%</th>\n",
       "      <td>214.000000</td>\n",
       "      <td>-14.000000</td>\n",
       "      <td>-416.000000</td>\n",
       "    </tr>\n",
       "    <tr>\n",
       "      <th>75%</th>\n",
       "      <td>539.000000</td>\n",
       "      <td>466.000000</td>\n",
       "      <td>83.000000</td>\n",
       "    </tr>\n",
       "    <tr>\n",
       "      <th>max</th>\n",
       "      <td>1039.000000</td>\n",
       "      <td>1078.000000</td>\n",
       "      <td>1032.000000</td>\n",
       "    </tr>\n",
       "  </tbody>\n",
       "</table>\n",
       "</div>"
      ],
      "text/plain": [
       "                   x              y              z\n",
       "count  144911.000000  144911.000000  144911.000000\n",
       "mean      132.732967     -34.800146    -307.588768\n",
       "std       491.697810     594.977813     538.335654\n",
       "min     -1239.000000   -1019.000000   -1001.000000\n",
       "25%      -291.000000    -646.000000    -794.000000\n",
       "50%       214.000000     -14.000000    -416.000000\n",
       "75%       539.000000     466.000000      83.000000\n",
       "max      1039.000000    1078.000000    1032.000000"
      ]
     },
     "execution_count": 8,
     "metadata": {},
     "output_type": "execute_result"
    }
   ],
   "source": [
    "train_data_loaded.describe()"
   ]
  },
  {
   "cell_type": "code",
   "execution_count": 9,
   "metadata": {
    "colab": {
     "base_uri": "https://localhost:8080/"
    },
    "executionInfo": {
     "elapsed": 2,
     "status": "ok",
     "timestamp": 1655288588562,
     "user": {
      "displayName": "Sfrizz _",
      "userId": "17085478953775635658"
     },
     "user_tz": -120
    },
    "id": "zTJdlGVJpTLy",
    "outputId": "05b815ab-65e6-41fb-be63-b07ba6679109"
   },
   "outputs": [
    {
     "name": "stdout",
     "output_type": "stream",
     "text": [
      "<class 'pandas.core.frame.DataFrame'>\n",
      "RangeIndex: 144911 entries, 0 to 144910\n",
      "Data columns (total 3 columns):\n",
      " #   Column  Non-Null Count   Dtype  \n",
      "---  ------  --------------   -----  \n",
      " 0   x       144911 non-null  float64\n",
      " 1   y       144911 non-null  float64\n",
      " 2   z       144911 non-null  float64\n",
      "dtypes: float64(3)\n",
      "memory usage: 3.3 MB\n"
     ]
    }
   ],
   "source": [
    "train_data_loaded = train_data_loaded.astype('float64')\n",
    "train_data_loaded.info()"
   ]
  },
  {
   "cell_type": "markdown",
   "metadata": {},
   "source": [
    "##### **Data visualization**"
   ]
  },
  {
   "cell_type": "code",
   "execution_count": 10,
   "metadata": {
    "colab": {
     "base_uri": "https://localhost:8080/",
     "height": 1000
    },
    "executionInfo": {
     "elapsed": 3226,
     "status": "ok",
     "timestamp": 1655288593115,
     "user": {
      "displayName": "Sfrizz _",
      "userId": "17085478953775635658"
     },
     "user_tz": -120
    },
    "id": "bklEc38ypanS",
    "outputId": "376ac398-e0dd-4b43-f52f-d0b7b49f9ae9"
   },
   "outputs": [
    {
     "data": {
      "text/plain": [
       "[<matplotlib.lines.Line2D at 0x1c6e36ee9a0>]"
      ]
     },
     "execution_count": 10,
     "metadata": {},
     "output_type": "execute_result"
    },
    {
     "data": {
      "image/png": "[encoded data removed]",
      "text/plain": [
       "<Figure size 1440x576 with 1 Axes>"
      ]
     },
     "metadata": {
      "needs_background": "light"
     },
     "output_type": "display_data"
    },
    {
     "data": {
      "image/png": "[encoded data removed]",
      "text/plain": [
       "<Figure size 1440x576 with 1 Axes>"
      ]
     },
     "metadata": {
      "needs_background": "light"
     },
     "output_type": "display_data"
    },
    {
     "data": {
      "image/png": "[encoded data removed]",
      "text/plain": [
       "<Figure size 1440x576 with 1 Axes>"
      ]
     },
     "metadata": {
      "needs_background": "light"
     },
     "output_type": "display_data"
    }
   ],
   "source": [
    "import matplotlib.pyplot as plt\n",
    "\n",
    "x_column = train_data_loaded['x'] # x\n",
    "fig = plt.figure(figsize=(20, 8))\n",
    "plt.plot(x_column)\n",
    "\n",
    "y_column = train_data_loaded['y'] # y\n",
    "fig = plt.figure(figsize=(20, 8))\n",
    "plt.plot(y_column)\n",
    "\n",
    "z_column = train_data_loaded['z'] # z\n",
    "fig = plt.figure(figsize=(20, 8))\n",
    "plt.plot(z_column)"
   ]
  },
  {
   "cell_type": "markdown",
   "metadata": {},
   "source": [
    "## **Data Preparation**\n",
    "##### **Trainset normalization**"
   ]
  },
  {
   "cell_type": "code",
   "execution_count": 11,
   "metadata": {
    "colab": {
     "base_uri": "https://localhost:8080/",
     "height": 424
    },
    "executionInfo": {
     "elapsed": 438,
     "status": "ok",
     "timestamp": 1655288594486,
     "user": {
      "displayName": "Sfrizz _",
      "userId": "17085478953775635658"
     },
     "user_tz": -120
    },
    "id": "vWf43q9nqP5Z",
    "outputId": "7b81ed29-d39b-47bc-f0e8-ac302c40eafb"
   },
   "outputs": [
    {
     "data": {
      "text/html": [
       "<div>\n",
       "<style scoped>\n",
       "    .dataframe tbody tr th:only-of-type {\n",
       "        vertical-align: middle;\n",
       "    }\n",
       "\n",
       "    .dataframe tbody tr th {\n",
       "        vertical-align: top;\n",
       "    }\n",
       "\n",
       "    .dataframe thead th {\n",
       "        text-align: right;\n",
       "    }\n",
       "</style>\n",
       "<table border=\"1\" class=\"dataframe\">\n",
       "  <thead>\n",
       "    <tr style=\"text-align: right;\">\n",
       "      <th></th>\n",
       "      <th>x</th>\n",
       "      <th>y</th>\n",
       "      <th>z</th>\n",
       "    </tr>\n",
       "  </thead>\n",
       "  <tbody>\n",
       "    <tr>\n",
       "      <th>0</th>\n",
       "      <td>-0.318759</td>\n",
       "      <td>1.317360</td>\n",
       "      <td>-0.591473</td>\n",
       "    </tr>\n",
       "    <tr>\n",
       "      <th>1</th>\n",
       "      <td>-0.688905</td>\n",
       "      <td>1.621573</td>\n",
       "      <td>0.454343</td>\n",
       "    </tr>\n",
       "    <tr>\n",
       "      <th>2</th>\n",
       "      <td>-0.552642</td>\n",
       "      <td>1.340891</td>\n",
       "      <td>-0.500452</td>\n",
       "    </tr>\n",
       "    <tr>\n",
       "      <th>3</th>\n",
       "      <td>-1.292934</td>\n",
       "      <td>0.799694</td>\n",
       "      <td>-0.463301</td>\n",
       "    </tr>\n",
       "    <tr>\n",
       "      <th>4</th>\n",
       "      <td>-0.835336</td>\n",
       "      <td>1.243408</td>\n",
       "      <td>-0.164231</td>\n",
       "    </tr>\n",
       "    <tr>\n",
       "      <th>...</th>\n",
       "      <td>...</td>\n",
       "      <td>...</td>\n",
       "      <td>...</td>\n",
       "    </tr>\n",
       "    <tr>\n",
       "      <th>144906</th>\n",
       "      <td>0.866929</td>\n",
       "      <td>-1.291140</td>\n",
       "      <td>0.025242</td>\n",
       "    </tr>\n",
       "    <tr>\n",
       "      <th>144907</th>\n",
       "      <td>0.866929</td>\n",
       "      <td>-1.291140</td>\n",
       "      <td>0.025242</td>\n",
       "    </tr>\n",
       "    <tr>\n",
       "      <th>144908</th>\n",
       "      <td>0.866929</td>\n",
       "      <td>-1.289460</td>\n",
       "      <td>0.023385</td>\n",
       "    </tr>\n",
       "    <tr>\n",
       "      <th>144909</th>\n",
       "      <td>0.866929</td>\n",
       "      <td>-1.291140</td>\n",
       "      <td>0.025242</td>\n",
       "    </tr>\n",
       "    <tr>\n",
       "      <th>144910</th>\n",
       "      <td>0.866929</td>\n",
       "      <td>-1.289460</td>\n",
       "      <td>0.025242</td>\n",
       "    </tr>\n",
       "  </tbody>\n",
       "</table>\n",
       "<p>144911 rows × 3 columns</p>\n",
       "</div>"
      ],
      "text/plain": [
       "               x         y         z\n",
       "0      -0.318759  1.317360 -0.591473\n",
       "1      -0.688905  1.621573  0.454343\n",
       "2      -0.552642  1.340891 -0.500452\n",
       "3      -1.292934  0.799694 -0.463301\n",
       "4      -0.835336  1.243408 -0.164231\n",
       "...          ...       ...       ...\n",
       "144906  0.866929 -1.291140  0.025242\n",
       "144907  0.866929 -1.291140  0.025242\n",
       "144908  0.866929 -1.289460  0.023385\n",
       "144909  0.866929 -1.291140  0.025242\n",
       "144910  0.866929 -1.289460  0.025242\n",
       "\n",
       "[144911 rows x 3 columns]"
      ]
     },
     "execution_count": 11,
     "metadata": {},
     "output_type": "execute_result"
    }
   ],
   "source": [
    "# normalize the dataset\n",
    "mean = train_data_loaded.mean()\n",
    "std = train_data_loaded.std()\n",
    "\n",
    "train_data_loaded = (train_data_loaded - mean) / std\n",
    "train_data_loaded"
   ]
  },
  {
   "cell_type": "markdown",
   "metadata": {},
   "source": [
    "##### **Validation data split**"
   ]
  },
  {
   "cell_type": "code",
   "execution_count": 12,
   "metadata": {
    "colab": {
     "base_uri": "https://localhost:8080/"
    },
    "executionInfo": {
     "elapsed": 4,
     "status": "ok",
     "timestamp": 1655288596525,
     "user": {
      "displayName": "Sfrizz _",
      "userId": "17085478953775635658"
     },
     "user_tz": -120
    },
    "id": "6_ukPKW4GhZE",
    "outputId": "981f80bf-f448-49fb-8095-0975783fda12"
   },
   "outputs": [
    {
     "name": "stdout",
     "output_type": "stream",
     "text": [
      "len_split : 101438\n"
     ]
    }
   ],
   "source": [
    "len_split = round(len(train_data_loaded)*0.7)\n",
    "len_split\n",
    "print(\"len_split : \" + str(len_split))\n",
    "train_data = train_data_loaded[:len_split]\n",
    "val_data = train_data_loaded[len_split:]"
   ]
  },
  {
   "cell_type": "code",
   "execution_count": 13,
   "metadata": {
    "colab": {
     "base_uri": "https://localhost:8080/",
     "height": 424
    },
    "executionInfo": {
     "elapsed": 317,
     "status": "ok",
     "timestamp": 1655288599105,
     "user": {
      "displayName": "Sfrizz _",
      "userId": "17085478953775635658"
     },
     "user_tz": -120
    },
    "id": "t-yp34qEGsh1",
    "outputId": "caf58d63-f22f-4ffe-f06b-2a509c80f6ad"
   },
   "outputs": [
    {
     "data": {
      "text/html": [
       "<div>\n",
       "<style scoped>\n",
       "    .dataframe tbody tr th:only-of-type {\n",
       "        vertical-align: middle;\n",
       "    }\n",
       "\n",
       "    .dataframe tbody tr th {\n",
       "        vertical-align: top;\n",
       "    }\n",
       "\n",
       "    .dataframe thead th {\n",
       "        text-align: right;\n",
       "    }\n",
       "</style>\n",
       "<table border=\"1\" class=\"dataframe\">\n",
       "  <thead>\n",
       "    <tr style=\"text-align: right;\">\n",
       "      <th></th>\n",
       "      <th>x</th>\n",
       "      <th>y</th>\n",
       "      <th>z</th>\n",
       "    </tr>\n",
       "  </thead>\n",
       "  <tbody>\n",
       "    <tr>\n",
       "      <th>0</th>\n",
       "      <td>0.332048</td>\n",
       "      <td>-1.573504</td>\n",
       "      <td>0.305736</td>\n",
       "    </tr>\n",
       "    <tr>\n",
       "      <th>1</th>\n",
       "      <td>0.315777</td>\n",
       "      <td>-1.570142</td>\n",
       "      <td>0.287161</td>\n",
       "    </tr>\n",
       "    <tr>\n",
       "      <th>2</th>\n",
       "      <td>0.429668</td>\n",
       "      <td>-1.563419</td>\n",
       "      <td>0.424621</td>\n",
       "    </tr>\n",
       "    <tr>\n",
       "      <th>3</th>\n",
       "      <td>0.612708</td>\n",
       "      <td>-1.430641</td>\n",
       "      <td>1.000470</td>\n",
       "    </tr>\n",
       "    <tr>\n",
       "      <th>4</th>\n",
       "      <td>0.431702</td>\n",
       "      <td>-1.575185</td>\n",
       "      <td>0.688397</td>\n",
       "    </tr>\n",
       "    <tr>\n",
       "      <th>...</th>\n",
       "      <td>...</td>\n",
       "      <td>...</td>\n",
       "      <td>...</td>\n",
       "    </tr>\n",
       "    <tr>\n",
       "      <th>43468</th>\n",
       "      <td>0.866929</td>\n",
       "      <td>-1.291140</td>\n",
       "      <td>0.025242</td>\n",
       "    </tr>\n",
       "    <tr>\n",
       "      <th>43469</th>\n",
       "      <td>0.866929</td>\n",
       "      <td>-1.291140</td>\n",
       "      <td>0.025242</td>\n",
       "    </tr>\n",
       "    <tr>\n",
       "      <th>43470</th>\n",
       "      <td>0.866929</td>\n",
       "      <td>-1.289460</td>\n",
       "      <td>0.023385</td>\n",
       "    </tr>\n",
       "    <tr>\n",
       "      <th>43471</th>\n",
       "      <td>0.866929</td>\n",
       "      <td>-1.291140</td>\n",
       "      <td>0.025242</td>\n",
       "    </tr>\n",
       "    <tr>\n",
       "      <th>43472</th>\n",
       "      <td>0.866929</td>\n",
       "      <td>-1.289460</td>\n",
       "      <td>0.025242</td>\n",
       "    </tr>\n",
       "  </tbody>\n",
       "</table>\n",
       "<p>43473 rows × 3 columns</p>\n",
       "</div>"
      ],
      "text/plain": [
       "              x         y         z\n",
       "0      0.332048 -1.573504  0.305736\n",
       "1      0.315777 -1.570142  0.287161\n",
       "2      0.429668 -1.563419  0.424621\n",
       "3      0.612708 -1.430641  1.000470\n",
       "4      0.431702 -1.575185  0.688397\n",
       "...         ...       ...       ...\n",
       "43468  0.866929 -1.291140  0.025242\n",
       "43469  0.866929 -1.291140  0.025242\n",
       "43470  0.866929 -1.289460  0.023385\n",
       "43471  0.866929 -1.291140  0.025242\n",
       "43472  0.866929 -1.289460  0.025242\n",
       "\n",
       "[43473 rows x 3 columns]"
      ]
     },
     "execution_count": 13,
     "metadata": {},
     "output_type": "execute_result"
    }
   ],
   "source": [
    "val_data.index = np.arange(0, len(val_data))\n",
    "val_data"
   ]
  },
  {
   "cell_type": "code",
   "execution_count": 14,
   "metadata": {
    "colab": {
     "base_uri": "https://localhost:8080/",
     "height": 424
    },
    "executionInfo": {
     "elapsed": 5,
     "status": "ok",
     "timestamp": 1655288600969,
     "user": {
      "displayName": "Sfrizz _",
      "userId": "17085478953775635658"
     },
     "user_tz": -120
    },
    "id": "LcoDcrJVGwIg",
    "outputId": "aa663b73-64ed-4b4f-fc09-6865ec2ba775"
   },
   "outputs": [
    {
     "data": {
      "text/html": [
       "<div>\n",
       "<style scoped>\n",
       "    .dataframe tbody tr th:only-of-type {\n",
       "        vertical-align: middle;\n",
       "    }\n",
       "\n",
       "    .dataframe tbody tr th {\n",
       "        vertical-align: top;\n",
       "    }\n",
       "\n",
       "    .dataframe thead th {\n",
       "        text-align: right;\n",
       "    }\n",
       "</style>\n",
       "<table border=\"1\" class=\"dataframe\">\n",
       "  <thead>\n",
       "    <tr style=\"text-align: right;\">\n",
       "      <th></th>\n",
       "      <th>x</th>\n",
       "      <th>y</th>\n",
       "      <th>z</th>\n",
       "    </tr>\n",
       "  </thead>\n",
       "  <tbody>\n",
       "    <tr>\n",
       "      <th>0</th>\n",
       "      <td>-0.318759</td>\n",
       "      <td>1.317360</td>\n",
       "      <td>-0.591473</td>\n",
       "    </tr>\n",
       "    <tr>\n",
       "      <th>1</th>\n",
       "      <td>-0.688905</td>\n",
       "      <td>1.621573</td>\n",
       "      <td>0.454343</td>\n",
       "    </tr>\n",
       "    <tr>\n",
       "      <th>2</th>\n",
       "      <td>-0.552642</td>\n",
       "      <td>1.340891</td>\n",
       "      <td>-0.500452</td>\n",
       "    </tr>\n",
       "    <tr>\n",
       "      <th>3</th>\n",
       "      <td>-1.292934</td>\n",
       "      <td>0.799694</td>\n",
       "      <td>-0.463301</td>\n",
       "    </tr>\n",
       "    <tr>\n",
       "      <th>4</th>\n",
       "      <td>-0.835336</td>\n",
       "      <td>1.243408</td>\n",
       "      <td>-0.164231</td>\n",
       "    </tr>\n",
       "    <tr>\n",
       "      <th>...</th>\n",
       "      <td>...</td>\n",
       "      <td>...</td>\n",
       "      <td>...</td>\n",
       "    </tr>\n",
       "    <tr>\n",
       "      <th>101433</th>\n",
       "      <td>-0.611622</td>\n",
       "      <td>1.438373</td>\n",
       "      <td>-0.502310</td>\n",
       "    </tr>\n",
       "    <tr>\n",
       "      <th>101434</th>\n",
       "      <td>-0.461123</td>\n",
       "      <td>1.483753</td>\n",
       "      <td>-0.442867</td>\n",
       "    </tr>\n",
       "    <tr>\n",
       "      <th>101435</th>\n",
       "      <td>0.990989</td>\n",
       "      <td>-0.828938</td>\n",
       "      <td>1.202946</td>\n",
       "    </tr>\n",
       "    <tr>\n",
       "      <th>101436</th>\n",
       "      <td>0.722531</td>\n",
       "      <td>-1.420557</td>\n",
       "      <td>1.000470</td>\n",
       "    </tr>\n",
       "    <tr>\n",
       "      <th>101437</th>\n",
       "      <td>0.502884</td>\n",
       "      <td>-1.548293</td>\n",
       "      <td>0.565797</td>\n",
       "    </tr>\n",
       "  </tbody>\n",
       "</table>\n",
       "<p>101438 rows × 3 columns</p>\n",
       "</div>"
      ],
      "text/plain": [
       "               x         y         z\n",
       "0      -0.318759  1.317360 -0.591473\n",
       "1      -0.688905  1.621573  0.454343\n",
       "2      -0.552642  1.340891 -0.500452\n",
       "3      -1.292934  0.799694 -0.463301\n",
       "4      -0.835336  1.243408 -0.164231\n",
       "...          ...       ...       ...\n",
       "101433 -0.611622  1.438373 -0.502310\n",
       "101434 -0.461123  1.483753 -0.442867\n",
       "101435  0.990989 -0.828938  1.202946\n",
       "101436  0.722531 -1.420557  1.000470\n",
       "101437  0.502884 -1.548293  0.565797\n",
       "\n",
       "[101438 rows x 3 columns]"
      ]
     },
     "execution_count": 14,
     "metadata": {},
     "output_type": "execute_result"
    }
   ],
   "source": [
    "train_data"
   ]
  },
  {
   "cell_type": "markdown",
   "metadata": {},
   "source": [
    "##### **Data Windowing**\n",
    "\n",
    "La funzione *data_windowing* prende in input un dataframe (*data*), \n",
    "il numero di righe per il quale vogliamo creare una sequenza (*lookback*) \n",
    "ed uno shift di spostamento sul dataframe (*step*). \n",
    "Tornerà due arrays: uno contenente le sequenze create e l'altro contenente i relativi target delle sequenze"
   ]
  },
  {
   "cell_type": "code",
   "execution_count": 15,
   "metadata": {
    "executionInfo": {
     "elapsed": 237,
     "status": "ok",
     "timestamp": 1655288936955,
     "user": {
      "displayName": "Sfrizz _",
      "userId": "17085478953775635658"
     },
     "user_tz": -120
    },
    "id": "8XiYSM_xtDlb"
   },
   "outputs": [],
   "source": [
    "def data_windowing(data, lookback, step):\n",
    "    \n",
    "    samples = []\n",
    "    targets = []\n",
    "\n",
    "    for i in range(0, len(data) - lookback - 1, step):\n",
    "        samples.append(data[i: i + lookback])\n",
    "        targets.append(data[i + lookback])\n",
    "    \n",
    "    samples = np.array(samples)\n",
    "    samples = samples.reshape((samples.shape[0], samples.shape[1], 1))\n",
    "    \n",
    "    targets = np.array(targets)\n",
    "    targets = targets.reshape((targets.shape[0], 1))\n",
    "    \n",
    "    return samples, targets"
   ]
  },
  {
   "cell_type": "code",
   "execution_count": 16,
   "metadata": {
    "colab": {
     "base_uri": "https://localhost:8080/"
    },
    "executionInfo": {
     "elapsed": 2930,
     "status": "ok",
     "timestamp": 1655288942506,
     "user": {
      "displayName": "Sfrizz _",
      "userId": "17085478953775635658"
     },
     "user_tz": -120
    },
    "id": "bEpmrdrzEGKP",
    "outputId": "89f62e26-6dd6-43e1-d589-86d37e77dc6d"
   },
   "outputs": [],
   "source": [
    "x_train_x, y_train_x = data_windowing(train_data['x'], 30, 6)\n",
    "x_train_y, y_train_y = data_windowing(train_data['y'], 30, 6)\n",
    "x_train_z, y_train_z = data_windowing(train_data['z'], 30, 6)"
   ]
  },
  {
   "cell_type": "code",
   "execution_count": 17,
   "metadata": {
    "executionInfo": {
     "elapsed": 890,
     "status": "ok",
     "timestamp": 1655222493162,
     "user": {
      "displayName": "Sfrizz _",
      "userId": "17085478953775635658"
     },
     "user_tz": -120
    },
    "id": "1ARdVxvsG0gt"
   },
   "outputs": [],
   "source": [
    "x_val_x, y_val_x = data_windowing(val_data['x'], 30, 6)\n",
    "x_val_y, y_val_y = data_windowing(val_data['y'], 30, 6)\n",
    "x_val_z, y_val_z = data_windowing(val_data['z'], 30, 6)"
   ]
  },
  {
   "cell_type": "code",
   "execution_count": 18,
   "metadata": {
    "executionInfo": {
     "elapsed": 3576,
     "status": "ok",
     "timestamp": 1655222496735,
     "user": {
      "displayName": "Sfrizz _",
      "userId": "17085478953775635658"
     },
     "user_tz": -120
    },
    "id": "NBihJEw9EWPw"
   },
   "outputs": [],
   "source": [
    "x_test_x, y_test_x = data_windowing(test_data['x'], 30, 6)\n",
    "x_test_y, y_test_y = data_windowing(test_data['y'], 30, 6)\n",
    "x_test_z, y_test_z = data_windowing(test_data['z'], 30, 6)"
   ]
  },
  {
   "cell_type": "markdown",
   "metadata": {},
   "source": [
    "## **Modeling**"
   ]
  },
  {
   "cell_type": "code",
   "execution_count": 19,
   "metadata": {
    "colab": {
     "base_uri": "https://localhost:8080/"
    },
    "executionInfo": {
     "elapsed": 3588,
     "status": "ok",
     "timestamp": 1655222500311,
     "user": {
      "displayName": "Sfrizz _",
      "userId": "17085478953775635658"
     },
     "user_tz": -120
    },
    "id": "se9yD-8htNQI",
    "outputId": "cceb1289-16af-49c6-de6b-f330d7c0e58b"
   },
   "outputs": [],
   "source": [
    "#pip install keras-tuner --upgrade"
   ]
  },
  {
   "cell_type": "code",
   "execution_count": 20,
   "metadata": {},
   "outputs": [],
   "source": [
    "#pip install tensorflow"
   ]
  },
  {
   "cell_type": "code",
   "execution_count": 21,
   "metadata": {
    "executionInfo": {
     "elapsed": 2517,
     "status": "ok",
     "timestamp": 1655222502824,
     "user": {
      "displayName": "Sfrizz _",
      "userId": "17085478953775635658"
     },
     "user_tz": -120
    },
    "id": "pPF82GYSyVx2"
   },
   "outputs": [],
   "source": [
    "import tensorflow as tf\n",
    "from tensorflow.keras import models, layers\n",
    "\n",
    "import keras_tuner as kt\n",
    "\n",
    "my_seed = 44\n",
    "np.random.seed(my_seed)\n",
    "tf.random.set_seed(my_seed)\n",
    "#from tensorflow.keras import layers\n",
    "#from tensorflow.keras.models import Sequential"
   ]
  },
  {
   "cell_type": "markdown",
   "metadata": {},
   "source": [
    "##### **Create the models**\n",
    "\n",
    "Dato l'utilizzo di un hypertuner parameters questa funzione verrà richiamata per ricostruire il tipo di modello sulla base dei valori fissati sulla quale verrà effettuata la ricerca per poter costruire quello che sarà il modello basato sui best hyperparameters. "
   ]
  },
  {
   "cell_type": "code",
   "execution_count": 22,
   "metadata": {
    "executionInfo": {
     "elapsed": 9,
     "status": "ok",
     "timestamp": 1655222502825,
     "user": {
      "displayName": "Sfrizz _",
      "userId": "17085478953775635658"
     },
     "user_tz": -120
    },
    "id": "UqSfy6cEsRgj"
   },
   "outputs": [],
   "source": [
    "def build_model(hp):\n",
    "    model = models.Sequential()\n",
    "    \n",
    "    # Tune the number of units in the first Dense layer\n",
    "    # Choose an optimal value between 16-256\n",
    "    \n",
    "    hp_units1 = hp.Int('units1', min_value=16, max_value=128, step=16)\n",
    "    model.add(layers.LSTM(hp_units1))\n",
    "    model.add(layers.Dense(1))\n",
    "    \n",
    "    # Tune the learning rate for the optimizer\n",
    "    # Choose an optimal value from 0.01, 0.001, or 0.0001\n",
    "    hp_lr = hp.Choice('learning_rate', values=[1e-2, 1e-3, 1e-4])\n",
    "    model.compile(optimizer=tf.keras.optimizers.Adam(learning_rate=hp_lr), loss = 'mae')\n",
    "    \n",
    "    return model"
   ]
  },
  {
   "cell_type": "code",
   "execution_count": 23,
   "metadata": {
    "executionInfo": {
     "elapsed": 8,
     "status": "ok",
     "timestamp": 1655222502825,
     "user": {
      "displayName": "Sfrizz _",
      "userId": "17085478953775635658"
     },
     "user_tz": -120
    },
    "id": "uVRlNU3ZtXmp"
   },
   "outputs": [],
   "source": [
    "early_stop = tf.keras.callbacks.EarlyStopping(monitor='loss', patience=5)"
   ]
  },
  {
   "cell_type": "code",
   "execution_count": 24,
   "metadata": {
    "executionInfo": {
     "elapsed": 7,
     "status": "ok",
     "timestamp": 1655222502825,
     "user": {
      "displayName": "Sfrizz _",
      "userId": "17085478953775635658"
     },
     "user_tz": -120
    },
    "id": "ZNh-JNFBAYX8"
   },
   "outputs": [],
   "source": [
    "import os\n",
    "import shutil\n",
    "\n",
    "if os.path.exists('project_dir') and os.path.isdir('project_dir'):\n",
    "    shutil.rmtree('project_dir')"
   ]
  },
  {
   "cell_type": "code",
   "execution_count": 25,
   "metadata": {
    "executionInfo": {
     "elapsed": 4010,
     "status": "ok",
     "timestamp": 1655222506828,
     "user": {
      "displayName": "Sfrizz _",
      "userId": "17085478953775635658"
     },
     "user_tz": -120
    },
    "id": "H9FFY7q4swBH"
   },
   "outputs": [],
   "source": [
    "tuner_x = kt.Hyperband(build_model,\n",
    "                     objective='loss',\n",
    "                     seed=my_seed,\n",
    "                     max_epochs=15,\n",
    "                     factor=3,\n",
    "                     directory='project_dir',\n",
    "                     project_name='next_value_prediction_x',\n",
    "                     overwrite=True)"
   ]
  },
  {
   "cell_type": "code",
   "execution_count": 26,
   "metadata": {
    "executionInfo": {
     "elapsed": 11,
     "status": "ok",
     "timestamp": 1655222506829,
     "user": {
      "displayName": "Sfrizz _",
      "userId": "17085478953775635658"
     },
     "user_tz": -120
    },
    "id": "dUquWQdvdIQ5"
   },
   "outputs": [],
   "source": [
    "tuner_y = kt.Hyperband(build_model,\n",
    "                     objective='loss',\n",
    "                     seed=my_seed,\n",
    "                     max_epochs=15,\n",
    "                     factor=3,\n",
    "                     directory='project_dir',\n",
    "                     project_name='next_value_prediction_y',\n",
    "                     overwrite=True)"
   ]
  },
  {
   "cell_type": "code",
   "execution_count": 27,
   "metadata": {
    "executionInfo": {
     "elapsed": 10,
     "status": "ok",
     "timestamp": 1655222506829,
     "user": {
      "displayName": "Sfrizz _",
      "userId": "17085478953775635658"
     },
     "user_tz": -120
    },
    "id": "-27pWMZ-dM3O"
   },
   "outputs": [],
   "source": [
    "tuner_z = kt.Hyperband(build_model,\n",
    "                     objective='loss',\n",
    "                     seed=my_seed,\n",
    "                     max_epochs=15,\n",
    "                     factor=3,\n",
    "                     directory='project_dir',\n",
    "                     project_name='next_value_prediction_z',\n",
    "                     overwrite=True)"
   ]
  },
  {
   "cell_type": "code",
   "execution_count": 28,
   "metadata": {
    "colab": {
     "base_uri": "https://localhost:8080/"
    },
    "executionInfo": {
     "elapsed": 700392,
     "status": "ok",
     "timestamp": 1655223207211,
     "user": {
      "displayName": "Sfrizz _",
      "userId": "17085478953775635658"
     },
     "user_tz": -120
    },
    "id": "Vlp0D0Yztc1g",
    "outputId": "133c2852-a792-4816-a44b-c12eb423b0b4"
   },
   "outputs": [
    {
     "name": "stdout",
     "output_type": "stream",
     "text": [
      "Trial 30 Complete [00h 01m 20s]\n",
      "loss: 0.12166368961334229\n",
      "\n",
      "Best loss So Far: 0.11559327691793442\n",
      "Total elapsed time: 00h 37m 30s\n",
      "INFO:tensorflow:Oracle triggered exit\n"
     ]
    }
   ],
   "source": [
    "tuner_x.search(x_train_x, y_train_x, epochs=10, validation_data=(x_val_x,y_val_x), callbacks=[early_stop])"
   ]
  },
  {
   "cell_type": "code",
   "execution_count": 29,
   "metadata": {
    "colab": {
     "base_uri": "https://localhost:8080/"
    },
    "executionInfo": {
     "elapsed": 656139,
     "status": "ok",
     "timestamp": 1655223863336,
     "user": {
      "displayName": "Sfrizz _",
      "userId": "17085478953775635658"
     },
     "user_tz": -120
    },
    "id": "w7i-VVw5eONm",
    "outputId": "423b430d-f46b-41e2-a5c2-135d0d5a49cc"
   },
   "outputs": [
    {
     "name": "stdout",
     "output_type": "stream",
     "text": [
      "Trial 30 Complete [00h 01m 49s]\n",
      "loss: 0.10291556268930435\n",
      "\n",
      "Best loss So Far: 0.09215877205133438\n",
      "Total elapsed time: 00h 44m 27s\n",
      "INFO:tensorflow:Oracle triggered exit\n"
     ]
    }
   ],
   "source": [
    "tuner_y.search(x_train_y, y_train_y, epochs=10, validation_data=(x_val_y,y_val_y), callbacks=[early_stop])"
   ]
  },
  {
   "cell_type": "code",
   "execution_count": 30,
   "metadata": {
    "colab": {
     "base_uri": "https://localhost:8080/"
    },
    "executionInfo": {
     "elapsed": 697559,
     "status": "ok",
     "timestamp": 1655224560880,
     "user": {
      "displayName": "Sfrizz _",
      "userId": "17085478953775635658"
     },
     "user_tz": -120
    },
    "id": "8yfLE4cGeReN",
    "outputId": "07c34a61-0c8e-45ed-f649-924fe59f8f52"
   },
   "outputs": [
    {
     "name": "stdout",
     "output_type": "stream",
     "text": [
      "Trial 30 Complete [00h 02m 00s]\n",
      "loss: 0.11854156106710434\n",
      "\n",
      "Best loss So Far: 0.1154652014374733\n",
      "Total elapsed time: 00h 51m 52s\n",
      "INFO:tensorflow:Oracle triggered exit\n"
     ]
    }
   ],
   "source": [
    "tuner_z.search(x_train_z, y_train_z, epochs=10, validation_data=(x_val_z,y_val_z), callbacks=[early_stop])"
   ]
  },
  {
   "cell_type": "code",
   "execution_count": 31,
   "metadata": {
    "colab": {
     "base_uri": "https://localhost:8080/"
    },
    "executionInfo": {
     "elapsed": 25,
     "status": "ok",
     "timestamp": 1655224560880,
     "user": {
      "displayName": "Sfrizz _",
      "userId": "17085478953775635658"
     },
     "user_tz": -120
    },
    "id": "9m1Zh1tFFEY6",
    "outputId": "8a28415e-1ce5-4af0-c74d-779082d2b9f0"
   },
   "outputs": [
    {
     "data": {
      "text/plain": [
       "{'units1': 128,\n",
       " 'learning_rate': 0.001,\n",
       " 'tuner/epochs': 15,\n",
       " 'tuner/initial_epoch': 0,\n",
       " 'tuner/bracket': 0,\n",
       " 'tuner/round': 0}"
      ]
     },
     "execution_count": 31,
     "metadata": {},
     "output_type": "execute_result"
    }
   ],
   "source": [
    "# Get the optimal hyperparameters for x\n",
    "best_hps_x = tuner_x.get_best_hyperparameters(num_trials=1)[0]\n",
    "\n",
    "#print(f\"\"\"\n",
    "#The hyperparameter search is complete. \n",
    "#The optimal number of units in the first densely-connected layer is {best_hps_x.get('units1')}.\n",
    "#The optimal learning rate for the optimizer is {best_hps_x.get('learning_rate')}.\n",
    "#\"\"\")\n",
    "\n",
    "best_hps_x.values"
   ]
  },
  {
   "cell_type": "code",
   "execution_count": 32,
   "metadata": {
    "colab": {
     "base_uri": "https://localhost:8080/"
    },
    "executionInfo": {
     "elapsed": 20,
     "status": "ok",
     "timestamp": 1655224560881,
     "user": {
      "displayName": "Sfrizz _",
      "userId": "17085478953775635658"
     },
     "user_tz": -120
    },
    "id": "DRIfUQOoedMJ",
    "outputId": "29d0f7b0-520f-4994-ccf9-ec7eb28dd11c"
   },
   "outputs": [
    {
     "data": {
      "text/plain": [
       "{'units1': 128,\n",
       " 'learning_rate': 0.001,\n",
       " 'tuner/epochs': 15,\n",
       " 'tuner/initial_epoch': 0,\n",
       " 'tuner/bracket': 0,\n",
       " 'tuner/round': 0}"
      ]
     },
     "execution_count": 32,
     "metadata": {},
     "output_type": "execute_result"
    }
   ],
   "source": [
    "# Get the optimal hyperparameters for y\n",
    "best_hps_y = tuner_y.get_best_hyperparameters(num_trials=1)[0]\n",
    "\n",
    "#print(f\"\"\"\n",
    "#The hyperparameter search is complete. \n",
    "#The optimal number of units in the first densely-connected layer is {best_hps_y.get('units1')}.\n",
    "#The optimal learning rate for the optimizer is {best_hps_y.get('learning_rate')}.\n",
    "#\"\"\")\n",
    "\n",
    "best_hps_y.values"
   ]
  },
  {
   "cell_type": "code",
   "execution_count": 33,
   "metadata": {
    "colab": {
     "base_uri": "https://localhost:8080/"
    },
    "executionInfo": {
     "elapsed": 18,
     "status": "ok",
     "timestamp": 1655224560882,
     "user": {
      "displayName": "Sfrizz _",
      "userId": "17085478953775635658"
     },
     "user_tz": -120
    },
    "id": "MhblbUngeijL",
    "outputId": "ad4aeff4-ac48-46ed-bcd7-ee3583bb029a"
   },
   "outputs": [
    {
     "data": {
      "text/plain": [
       "{'units1': 128,\n",
       " 'learning_rate': 0.001,\n",
       " 'tuner/epochs': 15,\n",
       " 'tuner/initial_epoch': 0,\n",
       " 'tuner/bracket': 0,\n",
       " 'tuner/round': 0}"
      ]
     },
     "execution_count": 33,
     "metadata": {},
     "output_type": "execute_result"
    }
   ],
   "source": [
    "# Get the optimal hyperparameters for z\n",
    "best_hps_z = tuner_z.get_best_hyperparameters(num_trials=1)[0]\n",
    "\n",
    "#print(f\"\"\"\n",
    "#The hyperparameter search is complete. \n",
    "#The optimal number of units in the first densely-connected layer is {best_hps_z.get('units1')}.\n",
    "#The optimal learning rate for the optimizer is {best_hps_z.get('learning_rate')}.\n",
    "#\"\"\")\n",
    "\n",
    "best_hps_z.values"
   ]
  },
  {
   "cell_type": "code",
   "execution_count": 34,
   "metadata": {
    "colab": {
     "base_uri": "https://localhost:8080/"
    },
    "executionInfo": {
     "elapsed": 42652,
     "status": "ok",
     "timestamp": 1655224603518,
     "user": {
      "displayName": "Sfrizz _",
      "userId": "17085478953775635658"
     },
     "user_tz": -120
    },
    "id": "rPYugmPcFMlb",
    "outputId": "2f4cd7a4-748e-43cf-cc69-8917d3c7a69a"
   },
   "outputs": [
    {
     "name": "stdout",
     "output_type": "stream",
     "text": [
      "Epoch 1/10\n",
      "529/529 [==============================] - 24s 41ms/step - loss: 0.1617 - val_loss: 0.1099\n",
      "Epoch 2/10\n",
      "529/529 [==============================] - 20s 37ms/step - loss: 0.1206 - val_loss: 0.0991\n",
      "Epoch 3/10\n",
      "529/529 [==============================] - 20s 38ms/step - loss: 0.1177 - val_loss: 0.0992\n",
      "Epoch 4/10\n",
      "529/529 [==============================] - 20s 39ms/step - loss: 0.1169 - val_loss: 0.0985\n",
      "Epoch 5/10\n",
      "529/529 [==============================] - 21s 40ms/step - loss: 0.1162 - val_loss: 0.1021\n",
      "Epoch 6/10\n",
      "529/529 [==============================] - 22s 41ms/step - loss: 0.1165 - val_loss: 0.0973\n",
      "Epoch 7/10\n",
      "529/529 [==============================] - 21s 40ms/step - loss: 0.1159 - val_loss: 0.0971\n",
      "Epoch 8/10\n",
      "529/529 [==============================] - 23s 43ms/step - loss: 0.1159 - val_loss: 0.1015\n",
      "Epoch 9/10\n",
      "529/529 [==============================] - 20s 37ms/step - loss: 0.1161 - val_loss: 0.0972\n",
      "Epoch 10/10\n",
      "529/529 [==============================] - 20s 37ms/step - loss: 0.1160 - val_loss: 0.1043\n"
     ]
    }
   ],
   "source": [
    "# Build the model for x with the optimal hyperparameters\n",
    "model_x = tuner_x.hypermodel.build(best_hps_x)\n",
    "model_x.compile(loss = 'mae', optimizer=tf.keras.optimizers.Adam(learning_rate=best_hps_x.get('learning_rate')))\n",
    "history_x = model_x.fit(x_train_x, y_train_x, epochs=10, validation_data=(x_val_x,y_val_x))"
   ]
  },
  {
   "cell_type": "code",
   "execution_count": 35,
   "metadata": {
    "colab": {
     "base_uri": "https://localhost:8080/"
    },
    "executionInfo": {
     "elapsed": 32127,
     "status": "ok",
     "timestamp": 1655224635627,
     "user": {
      "displayName": "Sfrizz _",
      "userId": "17085478953775635658"
     },
     "user_tz": -120
    },
    "id": "Iuvr530kiluw",
    "outputId": "b029055e-cba4-40db-ed2d-bda74d42e152"
   },
   "outputs": [
    {
     "name": "stdout",
     "output_type": "stream",
     "text": [
      "Epoch 1/10\n",
      "529/529 [==============================] - 18s 31ms/step - loss: 0.1373 - val_loss: 0.0959\n",
      "Epoch 2/10\n",
      "529/529 [==============================] - 17s 31ms/step - loss: 0.0990 - val_loss: 0.0788\n",
      "Epoch 3/10\n",
      "529/529 [==============================] - 19s 35ms/step - loss: 0.0943 - val_loss: 0.0804\n",
      "Epoch 4/10\n",
      "529/529 [==============================] - 16s 31ms/step - loss: 0.0935 - val_loss: 0.0810\n",
      "Epoch 5/10\n",
      "529/529 [==============================] - 17s 32ms/step - loss: 0.0927 - val_loss: 0.0779\n",
      "Epoch 6/10\n",
      "529/529 [==============================] - 17s 32ms/step - loss: 0.0926 - val_loss: 0.0813\n",
      "Epoch 7/10\n",
      "529/529 [==============================] - 17s 32ms/step - loss: 0.0931 - val_loss: 0.0866\n",
      "Epoch 8/10\n",
      "529/529 [==============================] - 18s 33ms/step - loss: 0.0929 - val_loss: 0.0782\n",
      "Epoch 9/10\n",
      "529/529 [==============================] - 17s 32ms/step - loss: 0.0932 - val_loss: 0.0788\n",
      "Epoch 10/10\n",
      "529/529 [==============================] - 18s 35ms/step - loss: 0.0925 - val_loss: 0.0796\n"
     ]
    }
   ],
   "source": [
    "# Build the model for y with the optimal hyperparameters\n",
    "model_y = tuner_y.hypermodel.build(best_hps_y)\n",
    "model_y.compile(loss = 'mae', optimizer=tf.keras.optimizers.Adam(learning_rate=best_hps_y.get('learning_rate')))\n",
    "history_y = model_y.fit(x_train_y, y_train_y, epochs=10, validation_data=(x_val_y,y_val_y))"
   ]
  },
  {
   "cell_type": "code",
   "execution_count": 36,
   "metadata": {
    "colab": {
     "base_uri": "https://localhost:8080/"
    },
    "executionInfo": {
     "elapsed": 33228,
     "status": "ok",
     "timestamp": 1655224668841,
     "user": {
      "displayName": "Sfrizz _",
      "userId": "17085478953775635658"
     },
     "user_tz": -120
    },
    "id": "-YGGw8uRimUi",
    "outputId": "9e08b62d-cc29-4c9f-c6b2-61b44a601cb5"
   },
   "outputs": [
    {
     "name": "stdout",
     "output_type": "stream",
     "text": [
      "Epoch 1/10\n",
      "529/529 [==============================] - 20s 34ms/step - loss: 0.1643 - val_loss: 0.1076\n",
      "Epoch 2/10\n",
      "529/529 [==============================] - 18s 34ms/step - loss: 0.1199 - val_loss: 0.0997\n",
      "Epoch 3/10\n",
      "529/529 [==============================] - 19s 36ms/step - loss: 0.1177 - val_loss: 0.1001\n",
      "Epoch 4/10\n",
      "529/529 [==============================] - 16s 31ms/step - loss: 0.1172 - val_loss: 0.0996\n",
      "Epoch 5/10\n",
      "529/529 [==============================] - 17s 32ms/step - loss: 0.1172 - val_loss: 0.1016\n",
      "Epoch 6/10\n",
      "529/529 [==============================] - 16s 31ms/step - loss: 0.1172 - val_loss: 0.1017\n",
      "Epoch 7/10\n",
      "529/529 [==============================] - 19s 36ms/step - loss: 0.1165 - val_loss: 0.0998\n",
      "Epoch 8/10\n",
      "529/529 [==============================] - 23s 43ms/step - loss: 0.1164 - val_loss: 0.1003\n",
      "Epoch 9/10\n",
      "529/529 [==============================] - 22s 41ms/step - loss: 0.1164 - val_loss: 0.0992\n",
      "Epoch 10/10\n",
      "529/529 [==============================] - 26s 48ms/step - loss: 0.1160 - val_loss: 0.0998\n"
     ]
    }
   ],
   "source": [
    "# Build the model for z with the optimal hyperparameters\n",
    "model_z = tuner_z.hypermodel.build(best_hps_z)\n",
    "model_z.compile(loss = 'mae', optimizer=tf.keras.optimizers.Adam(learning_rate=best_hps_z.get('learning_rate')))\n",
    "history_z = model_z.fit(x_train_z, y_train_z, epochs=10, validation_data=(x_val_z,y_val_z))"
   ]
  },
  {
   "cell_type": "markdown",
   "metadata": {},
   "source": [
    "Per ogni modello creato sulla base dei miglior hyperparameters verrà considerato come numero di epoche massime sulla quale effettuare nuovamente il fit il numero di epoche massimo dove si ha la minor \"loss\""
   ]
  },
  {
   "cell_type": "code",
   "execution_count": 37,
   "metadata": {
    "colab": {
     "base_uri": "https://localhost:8080/"
    },
    "executionInfo": {
     "elapsed": 20,
     "status": "ok",
     "timestamp": 1655224668841,
     "user": {
      "displayName": "Sfrizz _",
      "userId": "17085478953775635658"
     },
     "user_tz": -120
    },
    "id": "DSngDNhJJVu8",
    "outputId": "dd720bc2-99d0-4e9d-d163-2b34ccd94527"
   },
   "outputs": [
    {
     "name": "stdout",
     "output_type": "stream",
     "text": [
      "Best epoch: 7\n"
     ]
    }
   ],
   "source": [
    "loss_per_epoch_x = history_x.history['loss']\n",
    "best_epoch_x = loss_per_epoch_x.index(min(loss_per_epoch_x)) + 1\n",
    "print('Best epoch: %d' % (best_epoch_x,))"
   ]
  },
  {
   "cell_type": "code",
   "execution_count": 38,
   "metadata": {
    "colab": {
     "base_uri": "https://localhost:8080/"
    },
    "executionInfo": {
     "elapsed": 18,
     "status": "ok",
     "timestamp": 1655224668843,
     "user": {
      "displayName": "Sfrizz _",
      "userId": "17085478953775635658"
     },
     "user_tz": -120
    },
    "id": "IcFRRWCSiykV",
    "outputId": "7cb73e28-20b1-47c3-ffb9-ef9677fbdad5"
   },
   "outputs": [
    {
     "name": "stdout",
     "output_type": "stream",
     "text": [
      "Best epoch: 10\n"
     ]
    }
   ],
   "source": [
    "loss_per_epoch_y = history_y.history['loss']\n",
    "best_epoch_y = loss_per_epoch_y.index(min(loss_per_epoch_y)) + 1\n",
    "print('Best epoch: %d' % (best_epoch_y,))"
   ]
  },
  {
   "cell_type": "code",
   "execution_count": 39,
   "metadata": {
    "colab": {
     "base_uri": "https://localhost:8080/"
    },
    "executionInfo": {
     "elapsed": 15,
     "status": "ok",
     "timestamp": 1655224668843,
     "user": {
      "displayName": "Sfrizz _",
      "userId": "17085478953775635658"
     },
     "user_tz": -120
    },
    "id": "FQJ0uo-Ii0dX",
    "outputId": "39c0d5e4-7964-4bd7-cdd8-2328b5968d9b"
   },
   "outputs": [
    {
     "name": "stdout",
     "output_type": "stream",
     "text": [
      "Best epoch: 10\n"
     ]
    }
   ],
   "source": [
    "loss_per_epoch_z = history_z.history['loss']\n",
    "best_epoch_z = loss_per_epoch_z.index(min(loss_per_epoch_z)) + 1\n",
    "print('Best epoch: %d' % (best_epoch_z,))"
   ]
  },
  {
   "cell_type": "code",
   "execution_count": 40,
   "metadata": {
    "colab": {
     "base_uri": "https://localhost:8080/"
    },
    "executionInfo": {
     "elapsed": 28921,
     "status": "ok",
     "timestamp": 1655224697750,
     "user": {
      "displayName": "Sfrizz _",
      "userId": "17085478953775635658"
     },
     "user_tz": -120
    },
    "id": "Kv6IQhXqJhHy",
    "outputId": "3ce93dd9-77e4-47b9-c1c0-ac5e03e034cd"
   },
   "outputs": [
    {
     "name": "stdout",
     "output_type": "stream",
     "text": [
      "Epoch 1/7\n",
      "529/529 [==============================] - 28s 44ms/step - loss: 0.1641 - val_loss: 0.1040\n",
      "Epoch 2/7\n",
      "529/529 [==============================] - 17s 32ms/step - loss: 0.1206 - val_loss: 0.1031\n",
      "Epoch 3/7\n",
      "529/529 [==============================] - 18s 34ms/step - loss: 0.1177 - val_loss: 0.0973\n",
      "Epoch 4/7\n",
      "529/529 [==============================] - 19s 36ms/step - loss: 0.1165 - val_loss: 0.0997\n",
      "Epoch 5/7\n",
      "529/529 [==============================] - 17s 32ms/step - loss: 0.1163 - val_loss: 0.0974\n",
      "Epoch 6/7\n",
      "529/529 [==============================] - 19s 36ms/step - loss: 0.1165 - val_loss: 0.1004\n",
      "Epoch 7/7\n",
      "529/529 [==============================] - 19s 37ms/step - loss: 0.1163 - val_loss: 0.1018\n"
     ]
    },
    {
     "data": {
      "text/plain": [
       "<keras.callbacks.History at 0x1c6facbecd0>"
      ]
     },
     "execution_count": 40,
     "metadata": {},
     "output_type": "execute_result"
    }
   ],
   "source": [
    "hypermodel_x = tuner_x.hypermodel.build(best_hps_x)\n",
    "hypermodel_x.compile(loss = 'mae', optimizer=tf.keras.optimizers.Adam(learning_rate=best_hps_x.get('learning_rate')))\n",
    "# Retrain the model\n",
    "history_x = hypermodel_x.fit(x_train_x, y_train_x, epochs=best_epoch_x, validation_data=(x_val_x,y_val_x))"
   ]
  },
  {
   "cell_type": "code",
   "execution_count": 41,
   "metadata": {
    "colab": {
     "base_uri": "https://localhost:8080/"
    },
    "executionInfo": {
     "elapsed": 31765,
     "status": "ok",
     "timestamp": 1655224729501,
     "user": {
      "displayName": "Sfrizz _",
      "userId": "17085478953775635658"
     },
     "user_tz": -120
    },
    "id": "-BKcSYuhjKAR",
    "outputId": "e97512cf-8de2-4a7f-d3b2-d6977c1c2f11"
   },
   "outputs": [
    {
     "name": "stdout",
     "output_type": "stream",
     "text": [
      "Epoch 1/10\n",
      "529/529 [==============================] - 21s 33ms/step - loss: 0.1345 - val_loss: 0.0903\n",
      "Epoch 2/10\n",
      "529/529 [==============================] - 17s 31ms/step - loss: 0.0978 - val_loss: 0.0798\n",
      "Epoch 3/10\n",
      "529/529 [==============================] - 17s 32ms/step - loss: 0.0941 - val_loss: 0.0801\n",
      "Epoch 4/10\n",
      "529/529 [==============================] - 17s 32ms/step - loss: 0.0931 - val_loss: 0.0781\n",
      "Epoch 5/10\n",
      "529/529 [==============================] - 16s 31ms/step - loss: 0.0927 - val_loss: 0.0798\n",
      "Epoch 6/10\n",
      "529/529 [==============================] - 19s 36ms/step - loss: 0.0931 - val_loss: 0.0820\n",
      "Epoch 7/10\n",
      "529/529 [==============================] - 17s 32ms/step - loss: 0.0929 - val_loss: 0.0848\n",
      "Epoch 8/10\n",
      "529/529 [==============================] - 16s 31ms/step - loss: 0.0930 - val_loss: 0.0792\n",
      "Epoch 9/10\n",
      "529/529 [==============================] - 18s 33ms/step - loss: 0.0927 - val_loss: 0.0789\n",
      "Epoch 10/10\n",
      "529/529 [==============================] - 18s 34ms/step - loss: 0.0929 - val_loss: 0.0777\n"
     ]
    },
    {
     "data": {
      "text/plain": [
       "<keras.callbacks.History at 0x1c69a7ec040>"
      ]
     },
     "execution_count": 41,
     "metadata": {},
     "output_type": "execute_result"
    }
   ],
   "source": [
    "hypermodel_y = tuner_y.hypermodel.build(best_hps_y)\n",
    "hypermodel_y.compile(loss = 'mae', optimizer=tf.keras.optimizers.Adam(learning_rate=best_hps_y.get('learning_rate')))\n",
    "\n",
    "# Retrain the model\n",
    "history_y = hypermodel_y.fit(x_train_y, y_train_y, epochs=best_epoch_y, validation_data=(x_val_y,y_val_y))"
   ]
  },
  {
   "cell_type": "code",
   "execution_count": 42,
   "metadata": {
    "colab": {
     "base_uri": "https://localhost:8080/"
    },
    "executionInfo": {
     "elapsed": 32133,
     "status": "ok",
     "timestamp": 1655224761621,
     "user": {
      "displayName": "Sfrizz _",
      "userId": "17085478953775635658"
     },
     "user_tz": -120
    },
    "id": "5rnWvbzqjQhE",
    "outputId": "625a3919-4d39-475c-e703-d4ef761db20d"
   },
   "outputs": [
    {
     "name": "stdout",
     "output_type": "stream",
     "text": [
      "Epoch 1/10\n",
      "529/529 [==============================] - 20s 32ms/step - loss: 0.1669 - val_loss: 0.1076\n",
      "Epoch 2/10\n",
      "529/529 [==============================] - 17s 32ms/step - loss: 0.1200 - val_loss: 0.1036\n",
      "Epoch 3/10\n",
      "529/529 [==============================] - 18s 34ms/step - loss: 0.1181 - val_loss: 0.0989\n",
      "Epoch 4/10\n",
      "529/529 [==============================] - 17s 33ms/step - loss: 0.1170 - val_loss: 0.1004\n",
      "Epoch 5/10\n",
      "529/529 [==============================] - 16s 31ms/step - loss: 0.1169 - val_loss: 0.1028\n",
      "Epoch 6/10\n",
      "529/529 [==============================] - 17s 32ms/step - loss: 0.1164 - val_loss: 0.1007\n",
      "Epoch 7/10\n",
      "529/529 [==============================] - 16s 30ms/step - loss: 0.1164 - val_loss: 0.1015\n",
      "Epoch 8/10\n",
      "529/529 [==============================] - 16s 30ms/step - loss: 0.1162 - val_loss: 0.1012\n",
      "Epoch 9/10\n",
      "529/529 [==============================] - 16s 31ms/step - loss: 0.1162 - val_loss: 0.0992\n",
      "Epoch 10/10\n",
      "529/529 [==============================] - 17s 32ms/step - loss: 0.1161 - val_loss: 0.1009\n"
     ]
    },
    {
     "data": {
      "text/plain": [
       "<keras.callbacks.History at 0x1c6a45d87c0>"
      ]
     },
     "execution_count": 42,
     "metadata": {},
     "output_type": "execute_result"
    }
   ],
   "source": [
    "hypermodel_z = tuner_z.hypermodel.build(best_hps_z)\n",
    "hypermodel_z.compile(loss = 'mae', optimizer=tf.keras.optimizers.Adam(learning_rate=best_hps_z.get('learning_rate')))\n",
    "\n",
    "# Retrain the model\n",
    "history_z = hypermodel_z.fit(x_train_z, y_train_z, epochs=best_epoch_z, validation_data=(x_val_z,y_val_z))"
   ]
  },
  {
   "cell_type": "code",
   "execution_count": 43,
   "metadata": {
    "executionInfo": {
     "elapsed": 17,
     "status": "ok",
     "timestamp": 1655224761622,
     "user": {
      "displayName": "Sfrizz _",
      "userId": "17085478953775635658"
     },
     "user_tz": -120
    },
    "id": "228RHywhzRg4"
   },
   "outputs": [],
   "source": [
    "seq_len_x = x_train_x.shape[1]\n",
    "num_feat_x = x_train_x.shape[2]"
   ]
  },
  {
   "cell_type": "code",
   "execution_count": 44,
   "metadata": {
    "colab": {
     "base_uri": "https://localhost:8080/"
    },
    "executionInfo": {
     "elapsed": 15,
     "status": "ok",
     "timestamp": 1655224761622,
     "user": {
      "displayName": "Sfrizz _",
      "userId": "17085478953775635658"
     },
     "user_tz": -120
    },
    "id": "u3Goy7qdJfH6",
    "outputId": "e2bfbd27-20cd-41f7-d3aa-8545a5ce6731"
   },
   "outputs": [
    {
     "data": {
      "text/plain": [
       "{'loss': [0.16167178750038147,\n",
       "  0.1206020638346672,\n",
       "  0.11768864840269089,\n",
       "  0.1169220507144928,\n",
       "  0.11621762812137604,\n",
       "  0.11651676893234253,\n",
       "  0.11587491631507874,\n",
       "  0.1159096509218216,\n",
       "  0.11613202095031738,\n",
       "  0.1159931868314743],\n",
       " 'val_loss': [0.10988420248031616,\n",
       "  0.0991239920258522,\n",
       "  0.09918054938316345,\n",
       "  0.0984741672873497,\n",
       "  0.1021260917186737,\n",
       "  0.09732827544212341,\n",
       "  0.09711384028196335,\n",
       "  0.10152384638786316,\n",
       "  0.09718233346939087,\n",
       "  0.1042717918753624]}"
      ]
     },
     "execution_count": 44,
     "metadata": {},
     "output_type": "execute_result"
    }
   ],
   "source": [
    "history_x.history"
   ]
  },
  {
   "cell_type": "code",
   "execution_count": 45,
   "metadata": {
    "colab": {
     "base_uri": "https://localhost:8080/",
     "height": 281
    },
    "executionInfo": {
     "elapsed": 556,
     "status": "ok",
     "timestamp": 1655224762166,
     "user": {
      "displayName": "Sfrizz _",
      "userId": "17085478953775635658"
     },
     "user_tz": -120
    },
    "id": "Gs0O256GzjOE",
    "outputId": "39ed576c-f56a-495c-a2dc-9dc576951a4a"
   },
   "outputs": [
    {
     "data": {
      "image/png": "[encoded data removed]",
      "text/plain": [
       "<Figure size 432x288 with 1 Axes>"
      ]
     },
     "metadata": {
      "needs_background": "light"
     },
     "output_type": "display_data"
    }
   ],
   "source": [
    "# Plotting results\n",
    "\n",
    "import matplotlib.pyplot as plt\n",
    "\n",
    "loss_x = history_x.history['loss'] \n",
    "epochs_x = range(len(loss_x))\n",
    "loss_y = history_y.history['loss'] \n",
    "epochs_y = range(len(loss_y))\n",
    "loss_z = history_z.history['loss'] \n",
    "epochs_z = range(len(loss_z)) \n",
    "\n",
    "plt.plot(epochs_x, loss_x,  label='Training loss x')\n",
    "plt.plot(epochs_y, loss_y,  label='Training loss y')\n",
    "plt.plot(epochs_z, loss_z,  label='Training loss z')\n",
    "plt.title('Training loss')\n",
    "plt.legend()\n",
    "plt.show()"
   ]
  },
  {
   "cell_type": "markdown",
   "metadata": {},
   "source": [
    "## *Prediction*\n",
    "\n",
    "Predizione basata sul modello costruito con i miglior hyperparameters e trainato sul numero di epoche ottimali considerate sopra. La predizione è effettuata sulle sequenze di test set normalizzate"
   ]
  },
  {
   "cell_type": "code",
   "execution_count": 46,
   "metadata": {
    "executionInfo": {
     "elapsed": 1656,
     "status": "ok",
     "timestamp": 1655224763818,
     "user": {
      "displayName": "Sfrizz _",
      "userId": "17085478953775635658"
     },
     "user_tz": -120
    },
    "id": "c7LrB1J6vF7p"
   },
   "outputs": [
    {
     "name": "stdout",
     "output_type": "stream",
     "text": [
      "773/773 [==============================] - 11s 13ms/step\n"
     ]
    }
   ],
   "source": [
    "prediction_x = hypermodel_x.predict((x_test_x - mean['x']) / std['x'])\n",
    "prediction_x = (prediction_x * std['x']) + mean['x']"
   ]
  },
  {
   "cell_type": "code",
   "execution_count": 47,
   "metadata": {
    "executionInfo": {
     "elapsed": 2571,
     "status": "ok",
     "timestamp": 1655224766386,
     "user": {
      "displayName": "Sfrizz _",
      "userId": "17085478953775635658"
     },
     "user_tz": -120
    },
    "id": "41nXu5m652uw"
   },
   "outputs": [
    {
     "name": "stdout",
     "output_type": "stream",
     "text": [
      "773/773 [==============================] - 10s 12ms/step\n"
     ]
    }
   ],
   "source": [
    "prediction_y = hypermodel_y.predict((x_test_y - mean['y']) / std['y'])\n",
    "prediction_y = (prediction_y * std['y']) + mean['y']"
   ]
  },
  {
   "cell_type": "code",
   "execution_count": 48,
   "metadata": {
    "executionInfo": {
     "elapsed": 2990,
     "status": "ok",
     "timestamp": 1655224769373,
     "user": {
      "displayName": "Sfrizz _",
      "userId": "17085478953775635658"
     },
     "user_tz": -120
    },
    "id": "3grERxbk53UD"
   },
   "outputs": [
    {
     "name": "stdout",
     "output_type": "stream",
     "text": [
      "773/773 [==============================] - 9s 11ms/step\n"
     ]
    }
   ],
   "source": [
    "prediction_z = hypermodel_z.predict((x_test_z - mean['z']) / std['z'])\n",
    "prediction_z = (prediction_z * std['z']) + mean['z']"
   ]
  },
  {
   "cell_type": "markdown",
   "metadata": {},
   "source": [
    "#### *Metrics*\n",
    "\n",
    "Risultati ottenuti dalla predizione su ogni feature del dataset"
   ]
  },
  {
   "cell_type": "code",
   "execution_count": 49,
   "metadata": {
    "colab": {
     "base_uri": "https://localhost:8080/"
    },
    "executionInfo": {
     "elapsed": 13,
     "status": "ok",
     "timestamp": 1655224769374,
     "user": {
      "displayName": "Sfrizz _",
      "userId": "17085478953775635658"
     },
     "user_tz": -120
    },
    "id": "9SkFmh6c5Z29",
    "outputId": "26453f4e-0f8d-4983-9993-8ec821db3ea0"
   },
   "outputs": [
    {
     "name": "stdout",
     "output_type": "stream",
     "text": [
      "MAE X: 75.09019705910183\n",
      "MAE Y: 80.23344410570901\n",
      "MAE Z: 74.1317428184007\n"
     ]
    }
   ],
   "source": [
    "#  x = 81.06; y = 85.26; z = 79.94\n",
    "from sklearn.metrics import mean_absolute_error\n",
    "\n",
    "mae_x = mean_absolute_error(y_test_x, prediction_x)\n",
    "print('MAE X: ' + str(mae_x))\n",
    "\n",
    "mae_y = mean_absolute_error(y_test_y, prediction_y)\n",
    "print('MAE Y: ' + str(mae_y))\n",
    "\n",
    "mae_z = mean_absolute_error(y_test_z, prediction_z)\n",
    "print('MAE Z: ' + str(mae_z))"
   ]
  },
  {
   "cell_type": "code",
   "execution_count": 50,
   "metadata": {
    "colab": {
     "base_uri": "https://localhost:8080/"
    },
    "executionInfo": {
     "elapsed": 7,
     "status": "ok",
     "timestamp": 1655224769374,
     "user": {
      "displayName": "Sfrizz _",
      "userId": "17085478953775635658"
     },
     "user_tz": -120
    },
    "id": "PZm7ED5eZLbv",
    "outputId": "0e7e4231-03a2-4268-e035-98531c8f30d3"
   },
   "outputs": [
    {
     "name": "stdout",
     "output_type": "stream",
     "text": [
      "x_rate: %f 0.9263532822489738\n",
      "y_rate: %f 0.9410443831305302\n",
      "z_rate: %f 0.9271103404002089\n"
     ]
    }
   ],
   "source": [
    "x_rate = mae_x/81.06\n",
    "y_rate = mae_y/85.26\n",
    "z_rate = mae_z/79.96\n",
    "\n",
    "print(\"x_rate: %f\",x_rate)\n",
    "print(\"y_rate: %f\",y_rate)\n",
    "print(\"z_rate: %f\",z_rate)"
   ]
  },
  {
   "cell_type": "markdown",
   "metadata": {},
   "source": [
    "### **Task 1.2**\n",
    "## *Evaluation* \n",
    "\n",
    "Evaluation basata sulla feature *Y*. Per ogni combinazione verranno affrontate le seguenti fasi: search sui best hyperparameters, ricostruzione del modello basato sui best hyperparameters, prediction e calcolo del mae"
   ]
  },
  {
   "cell_type": "code",
   "execution_count": 51,
   "metadata": {
    "colab": {
     "base_uri": "https://localhost:8080/"
    },
    "id": "3bAi9F8YURel",
    "outputId": "1a0284e1-2264-4b0a-d8ca-e508834c14a5"
   },
   "outputs": [
    {
     "name": "stdout",
     "output_type": "stream",
     "text": [
      "Trial 30 Complete [00h 01m 51s]\n",
      "loss: 0.10998275876045227\n",
      "\n",
      "Best loss So Far: 0.0923173651099205\n",
      "Total elapsed time: 01h 02m 24s\n",
      "INFO:tensorflow:Oracle triggered exit\n",
      "Epoch 1/10\n",
      "353/353 [==============================] - 30s 81ms/step - loss: 0.1532 - val_loss: 0.1316\n",
      "Epoch 2/10\n",
      "353/353 [==============================] - 28s 81ms/step - loss: 0.1063 - val_loss: 0.0826\n",
      "Epoch 3/10\n",
      "353/353 [==============================] - 29s 81ms/step - loss: 0.0969 - val_loss: 0.0843\n",
      "Epoch 4/10\n",
      "353/353 [==============================] - 28s 79ms/step - loss: 0.0941 - val_loss: 0.0836\n",
      "Epoch 5/10\n",
      "353/353 [==============================] - 28s 80ms/step - loss: 0.0946 - val_loss: 0.0813\n",
      "Epoch 6/10\n",
      "353/353 [==============================] - 28s 80ms/step - loss: 0.0931 - val_loss: 0.0783\n",
      "Epoch 7/10\n",
      "353/353 [==============================] - 28s 79ms/step - loss: 0.0926 - val_loss: 0.0795\n",
      "Epoch 8/10\n",
      "353/353 [==============================] - 28s 80ms/step - loss: 0.0933 - val_loss: 0.0861\n",
      "Epoch 9/10\n",
      "353/353 [==============================] - 28s 81ms/step - loss: 0.0925 - val_loss: 0.0807\n",
      "Epoch 10/10\n",
      "353/353 [==============================] - 29s 81ms/step - loss: 0.0921 - val_loss: 0.0820\n",
      "Epoch 1/10\n",
      "353/353 [==============================] - 29s 78ms/step - loss: 0.1510 - val_loss: 0.1158\n",
      "Epoch 2/10\n",
      "353/353 [==============================] - 27s 78ms/step - loss: 0.1064 - val_loss: 0.0880\n",
      "Epoch 3/10\n",
      "353/353 [==============================] - 28s 78ms/step - loss: 0.0977 - val_loss: 0.0845\n",
      "Epoch 4/10\n",
      "353/353 [==============================] - 28s 79ms/step - loss: 0.0949 - val_loss: 0.0810\n",
      "Epoch 5/10\n",
      "353/353 [==============================] - 28s 79ms/step - loss: 0.0943 - val_loss: 0.0918\n",
      "Epoch 6/10\n",
      "353/353 [==============================] - 27s 77ms/step - loss: 0.0932 - val_loss: 0.0779\n",
      "Epoch 7/10\n",
      "353/353 [==============================] - 28s 79ms/step - loss: 0.0925 - val_loss: 0.0827\n",
      "Epoch 8/10\n",
      "353/353 [==============================] - 28s 78ms/step - loss: 0.0925 - val_loss: 0.0812\n",
      "Epoch 9/10\n",
      "353/353 [==============================] - 27s 78ms/step - loss: 0.0925 - val_loss: 0.0795\n",
      "Epoch 10/10\n",
      "353/353 [==============================] - 31s 89ms/step - loss: 0.0923 - val_loss: 0.0801\n",
      "515/515 [==============================] - 17s 32ms/step\n",
      "MAE Y: 81.74583379640272\n"
     ]
    }
   ],
   "source": [
    "configuration = []\n",
    "forecast_y = []\n",
    "\n",
    "for lookback in [12,30,60]:\n",
    "    for step in [3,6,9]:\n",
    "\n",
    "        print(\"Trying \" + str(lookback) + \" every \" + str(step) + \" steps\")\n",
    "\n",
    "        x_train_y, y_train_y = data_windowing(train_data['y'], lookback, step)\n",
    "        x_val_y, y_val_y = data_windowing(val_data['y'], lookback, step)\n",
    "        x_test_y, y_test_y = data_windowing(test_data['y'], lookback, step)\n",
    "\n",
    "        tuner_y = kt.Hyperband(build_model,\n",
    "                         objective='loss',\n",
    "                         seed=my_seed,\n",
    "                         max_epochs=15,\n",
    "                         factor=3,\n",
    "                         overwrite=True,\n",
    "                         directory='task_1_2',\n",
    "                         project_name='seq_'+str(lookback)+'_step_'+str(step))\n",
    "\n",
    "        tuner_y.search(x_train_y, y_train_y, epochs=10, validation_data=(x_val_y,y_val_y), callbacks=[early_stop])\n",
    "\n",
    "        best_hps_y = tuner_y.get_best_hyperparameters(num_trials=1)[0]\n",
    "\n",
    "        model_y = tuner_y.hypermodel.build(best_hps_y)\n",
    "        model_y.compile(loss = 'mae', optimizer=tf.keras.optimizers.Adam(learning_rate=best_hps_y.get('learning_rate')))\n",
    "        history_y = model_y.fit(x_train_y, y_train_y, epochs=10, validation_data=(x_val_y,y_val_y))\n",
    "\n",
    "        loss_per_epoch_y = history_y.history['loss']\n",
    "        best_epoch_y = loss_per_epoch_y.index(min(loss_per_epoch_y)) + 1\n",
    "\n",
    "        hypermodel_y = tuner_y.hypermodel.build(best_hps_y)\n",
    "        hypermodel_y.compile(loss = 'mae', optimizer=tf.keras.optimizers.Adam(learning_rate=best_hps_y.get('learning_rate')))\n",
    "        hypermodel_y.fit(x_train_y, y_train_y, epochs=best_epoch_y, validation_data=(x_val_y,y_val_y))\n",
    "\n",
    "        prediction_y = hypermodel_y.predict((x_test_y - mean['y']) / std['y'])\n",
    "        prediction_y = (prediction_y * std['y']) + mean['y']\n",
    "\n",
    "        mae_y = mean_absolute_error(y_test_y, prediction_y)\n",
    "        print('MAE Y: ' + str(mae_y))\n",
    "\n",
    "        configuration.append(str(lookback) + \"-\" + str(step))\n",
    "        forecast_y.append(mae_y)"
   ]
  },
  {
   "cell_type": "code",
   "execution_count": 53,
   "metadata": {},
   "outputs": [
    {
     "data": {
      "text/plain": [
       "80.04013379949687"
      ]
     },
     "execution_count": 53,
     "metadata": {},
     "output_type": "execute_result"
    }
   ],
   "source": [
    "min_mae = min(forecast_y)\n",
    "min_mae"
   ]
  },
  {
   "cell_type": "code",
   "execution_count": 52,
   "metadata": {
    "id": "VQk2vf2t2Dxo"
   },
   "outputs": [
    {
     "data": {
      "image/png": "[encoded data removed]",
      "text/plain": [
       "<Figure size 432x288 with 1 Axes>"
      ]
     },
     "metadata": {
      "needs_background": "light"
     },
     "output_type": "display_data"
    }
   ],
   "source": [
    "# Plotting results\n",
    "\n",
    "import matplotlib.pyplot as plt\n",
    "\n",
    "plt.bar(configuration, forecast_y, label='Forecast y', color='red')\n",
    "plt.axhline(85.26, color='black')\n",
    "plt.axhline(86.26, color='white')\n",
    "plt.title('Best values')\n",
    "plt.legend()\n",
    "plt.show()"
   ]
  }
 ],
 "metadata": {
  "accelerator": "GPU",
  "colab": {
   "collapsed_sections": [],
   "name": "Next Value Prediction.ipynb",
   "provenance": []
  },
  "kernelspec": {
   "display_name": "Python 3",
   "language": "python",
   "name": "python3"
  },
  "language_info": {
   "codemirror_mode": {
    "name": "ipython",
    "version": 3
   },
   "file_extension": ".py",
   "mimetype": "text/x-python",
   "name": "python",
   "nbconvert_exporter": "python",
   "pygments_lexer": "ipython3",
   "version": "3.8.5"
  }
 },
 "nbformat": 4,
 "nbformat_minor": 1
}
